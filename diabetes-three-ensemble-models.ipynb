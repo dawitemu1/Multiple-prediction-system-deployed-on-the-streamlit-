{
 "cells": [
  {
   "cell_type": "code",
   "execution_count": 1,
   "id": "5c77a862",
   "metadata": {
    "_cell_guid": "b1076dfc-b9ad-4769-8c92-a6c4dae69d19",
    "_kg_hide-input": true,
    "_kg_hide-output": true,
    "_uuid": "8f2839f25d086af736a60e9eeb907d3b93b6e0e5",
    "papermill": {
     "duration": 0.113002,
     "end_time": "2021-12-25T05:50:08.258776",
     "exception": false,
     "start_time": "2021-12-25T05:50:08.145774",
     "status": "completed"
    },
    "tags": []
   },
   "outputs": [],
   "source": [
    "# This Python 3 environment comes with many helpful analytics libraries installed\n",
    "# It is defined by the kaggle/python Docker image: https://github.com/kaggle/docker-python\n",
    "# For example, here's several helpful packages to load\n",
    "\n",
    "import numpy as np # linear algebra\n",
    "import pandas as pd # data processing, CSV file I/O (e.g. pd.read_csv)\n",
    "\n",
    "# Input data files are available in the read-only \"../input/\" directory\n",
    "# For example, running this (by clicking run or pressing Shift+Enter) will list all files under the input directory\n",
    "\n",
    "import os\n",
    "for dirname, _, filenames in os.walk('/kaggle/input'):\n",
    "    for filename in filenames:\n",
    "        print(os.path.join(dirname, filename))\n",
    "\n",
    "# You can write up to 20GB to the current directory (/kaggle/working/) that gets preserved as output when you create a version using \"Save & Run All\" \n",
    "# You can also write temporary files to /kaggle/temp/, but they won't be saved outside of the current session"
   ]
  },
  {
   "cell_type": "code",
   "execution_count": 2,
   "id": "04285846",
   "metadata": {
    "_kg_hide-input": true,
    "_kg_hide-output": true,
    "papermill": {
     "duration": 47.044048,
     "end_time": "2021-12-25T05:50:55.371825",
     "exception": false,
     "start_time": "2021-12-25T05:50:08.327777",
     "status": "completed"
    },
    "tags": []
   },
   "outputs": [
    {
     "name": "stdout",
     "output_type": "stream",
     "text": [
      "Collecting pycaret\n",
      "  Obtaining dependency information for pycaret from https://files.pythonhosted.org/packages/eb/43/ec8d59a663e0a1a67196b404ec38ccb0051708bad74a48c80d96c61dd0e5/pycaret-3.2.0-py3-none-any.whl.metadata\n",
      "  Using cached pycaret-3.2.0-py3-none-any.whl.metadata (17 kB)\n",
      "Collecting category-encoders>=2.4.0 (from pycaret)\n",
      "  Obtaining dependency information for category-encoders>=2.4.0 from https://files.pythonhosted.org/packages/7f/e5/79a62e5c9c9ddbfa9ff5222240d408c1eeea4e38741a0dc8343edc7ef1ec/category_encoders-2.6.3-py2.py3-none-any.whl.metadata\n",
      "  Using cached category_encoders-2.6.3-py2.py3-none-any.whl.metadata (8.0 kB)\n",
      "Requirement already satisfied: cloudpickle in c:\\users\\dawit shibabaw\\anaconda3\\lib\\site-packages (from pycaret) (2.2.1)\n",
      "Collecting deprecation>=2.1.0 (from pycaret)\n",
      "  Using cached deprecation-2.1.0-py2.py3-none-any.whl (11 kB)\n",
      "Requirement already satisfied: imbalanced-learn>=0.8.1 in c:\\users\\dawit shibabaw\\anaconda3\\lib\\site-packages (from pycaret) (0.10.1)\n",
      "Requirement already satisfied: importlib-metadata>=4.12.0 in c:\\users\\dawit shibabaw\\anaconda3\\lib\\site-packages (from pycaret) (6.0.0)\n",
      "Requirement already satisfied: ipython>=5.5.0 in c:\\users\\dawit shibabaw\\anaconda3\\lib\\site-packages (from pycaret) (8.15.0)\n",
      "Requirement already satisfied: ipywidgets>=7.6.5 in c:\\users\\dawit shibabaw\\anaconda3\\lib\\site-packages (from pycaret) (8.0.4)\n",
      "Requirement already satisfied: jinja2>=1.2 in c:\\users\\dawit shibabaw\\anaconda3\\lib\\site-packages (from pycaret) (3.1.2)\n",
      "Requirement already satisfied: joblib>=1.2.0 in c:\\users\\dawit shibabaw\\anaconda3\\lib\\site-packages (from pycaret) (1.2.0)\n",
      "Requirement already satisfied: kaleido>=0.2.1 in c:\\users\\dawit shibabaw\\anaconda3\\lib\\site-packages (from pycaret) (0.2.1)\n",
      "Collecting lightgbm>=3.0.0 (from pycaret)\n",
      "  Obtaining dependency information for lightgbm>=3.0.0 from https://files.pythonhosted.org/packages/74/02/5ad29a2a3d193a87d5a05fb7fd3b4e30b8eb6db7a9ddbe193beb7053978f/lightgbm-4.2.0-py3-none-win_amd64.whl.metadata\n",
      "  Using cached lightgbm-4.2.0-py3-none-win_amd64.whl.metadata (19 kB)\n",
      "Requirement already satisfied: markupsafe>=2.0.1 in c:\\users\\dawit shibabaw\\anaconda3\\lib\\site-packages (from pycaret) (2.1.1)\n",
      "Collecting matplotlib<=3.6,>=3.3.0 (from pycaret)\n",
      "  Using cached matplotlib-3.6.0-cp311-cp311-win_amd64.whl (7.2 MB)\n",
      "Requirement already satisfied: nbformat>=4.2.0 in c:\\users\\dawit shibabaw\\anaconda3\\lib\\site-packages (from pycaret) (5.9.2)\n",
      "Requirement already satisfied: numba>=0.55.0 in c:\\users\\dawit shibabaw\\anaconda3\\lib\\site-packages (from pycaret) (0.57.1)\n",
      "Requirement already satisfied: numpy<1.27,>=1.21 in c:\\users\\dawit shibabaw\\anaconda3\\lib\\site-packages (from pycaret) (1.24.3)\n",
      "Collecting pandas<2.0.0,>=1.3.0 (from pycaret)\n",
      "  Using cached pandas-1.5.3-cp311-cp311-win_amd64.whl (10.3 MB)\n",
      "Collecting plotly-resampler>=0.8.3.1 (from pycaret)\n",
      "  Obtaining dependency information for plotly-resampler>=0.8.3.1 from https://files.pythonhosted.org/packages/08/1d/87d4ed45c26226630bcb0a205ff006c00645cc68977e22c0f6f16a7f5d2b/plotly_resampler-0.9.1-py3-none-any.whl.metadata\n",
      "  Using cached plotly_resampler-0.9.1-py3-none-any.whl.metadata (12 kB)\n",
      "Requirement already satisfied: plotly>=5.0.0 in c:\\users\\dawit shibabaw\\anaconda3\\lib\\site-packages (from pycaret) (5.9.0)\n",
      "Collecting pmdarima!=1.8.1,<3.0.0,>=1.8.0 (from pycaret)\n",
      "  Obtaining dependency information for pmdarima!=1.8.1,<3.0.0,>=1.8.0 from https://files.pythonhosted.org/packages/ac/f8/6c9364602b13f0dba129b53acd1344859690911a4d5021560d9fd6aa087f/pmdarima-2.0.4-cp311-cp311-win_amd64.whl.metadata\n",
      "  Using cached pmdarima-2.0.4-cp311-cp311-win_amd64.whl.metadata (8.0 kB)\n",
      "Requirement already satisfied: psutil>=5.9.0 in c:\\users\\dawit shibabaw\\anaconda3\\lib\\site-packages (from pycaret) (5.9.0)\n",
      "Collecting pyod>=1.0.8 (from pycaret)\n",
      "  Using cached pyod-1.1.2-py3-none-any.whl\n",
      "Requirement already satisfied: requests>=2.27.1 in c:\\users\\dawit shibabaw\\anaconda3\\lib\\site-packages (from pycaret) (2.31.0)\n",
      "Collecting schemdraw==0.15 (from pycaret)\n",
      "  Using cached schemdraw-0.15-py3-none-any.whl (106 kB)\n",
      "Collecting scikit-learn<1.3.0,>=1.0 (from pycaret)\n",
      "  Using cached scikit_learn-1.2.2-cp311-cp311-win_amd64.whl (8.3 MB)\n",
      "Collecting scikit-plot>=0.3.7 (from pycaret)\n",
      "  Using cached scikit_plot-0.3.7-py3-none-any.whl (33 kB)\n",
      "Collecting scipy~=1.10.1 (from pycaret)\n",
      "  Using cached scipy-1.10.1-cp311-cp311-win_amd64.whl (42.2 MB)\n",
      "Collecting sktime!=0.17.1,!=0.17.2,!=0.18.0,<0.22.0,>=0.16.1 (from pycaret)\n",
      "  Obtaining dependency information for sktime!=0.17.1,!=0.17.2,!=0.18.0,<0.22.0,>=0.16.1 from https://files.pythonhosted.org/packages/0f/70/a791db68c6f6922eb9e79baf1466263147a487c5b7ba7813f5868901e032/sktime-0.21.1-py3-none-any.whl.metadata\n",
      "  Using cached sktime-0.21.1-py3-none-any.whl.metadata (25 kB)\n",
      "Requirement already satisfied: statsmodels>=0.12.1 in c:\\users\\dawit shibabaw\\anaconda3\\lib\\site-packages (from pycaret) (0.14.0)\n",
      "Collecting tbats>=1.1.3 (from pycaret)\n",
      "  Using cached tbats-1.1.3-py3-none-any.whl (44 kB)\n",
      "Requirement already satisfied: tqdm>=4.62.0 in c:\\users\\dawit shibabaw\\anaconda3\\lib\\site-packages (from pycaret) (4.65.0)\n",
      "Requirement already satisfied: xxhash in c:\\users\\dawit shibabaw\\anaconda3\\lib\\site-packages (from pycaret) (2.0.2)\n",
      "Collecting yellowbrick>=1.4 (from pycaret)\n",
      "  Using cached yellowbrick-1.5-py3-none-any.whl (282 kB)\n",
      "Requirement already satisfied: patsy>=0.5.1 in c:\\users\\dawit shibabaw\\anaconda3\\lib\\site-packages (from category-encoders>=2.4.0->pycaret) (0.5.3)\n",
      "Requirement already satisfied: packaging in c:\\users\\dawit shibabaw\\anaconda3\\lib\\site-packages (from deprecation>=2.1.0->pycaret) (23.1)\n",
      "Requirement already satisfied: threadpoolctl>=2.0.0 in c:\\users\\dawit shibabaw\\anaconda3\\lib\\site-packages (from imbalanced-learn>=0.8.1->pycaret) (2.2.0)\n",
      "Requirement already satisfied: zipp>=0.5 in c:\\users\\dawit shibabaw\\anaconda3\\lib\\site-packages (from importlib-metadata>=4.12.0->pycaret) (3.11.0)\n",
      "Requirement already satisfied: backcall in c:\\users\\dawit shibabaw\\anaconda3\\lib\\site-packages (from ipython>=5.5.0->pycaret) (0.2.0)\n",
      "Requirement already satisfied: decorator in c:\\users\\dawit shibabaw\\anaconda3\\lib\\site-packages (from ipython>=5.5.0->pycaret) (5.1.1)\n",
      "Requirement already satisfied: jedi>=0.16 in c:\\users\\dawit shibabaw\\anaconda3\\lib\\site-packages (from ipython>=5.5.0->pycaret) (0.18.1)\n",
      "Requirement already satisfied: matplotlib-inline in c:\\users\\dawit shibabaw\\anaconda3\\lib\\site-packages (from ipython>=5.5.0->pycaret) (0.1.6)\n",
      "Requirement already satisfied: pickleshare in c:\\users\\dawit shibabaw\\anaconda3\\lib\\site-packages (from ipython>=5.5.0->pycaret) (0.7.5)\n",
      "Requirement already satisfied: prompt-toolkit!=3.0.37,<3.1.0,>=3.0.30 in c:\\users\\dawit shibabaw\\anaconda3\\lib\\site-packages (from ipython>=5.5.0->pycaret) (3.0.36)\n",
      "Requirement already satisfied: pygments>=2.4.0 in c:\\users\\dawit shibabaw\\anaconda3\\lib\\site-packages (from ipython>=5.5.0->pycaret) (2.15.1)\n",
      "Requirement already satisfied: stack-data in c:\\users\\dawit shibabaw\\anaconda3\\lib\\site-packages (from ipython>=5.5.0->pycaret) (0.2.0)\n",
      "Requirement already satisfied: traitlets>=5 in c:\\users\\dawit shibabaw\\anaconda3\\lib\\site-packages (from ipython>=5.5.0->pycaret) (5.7.1)\n",
      "Requirement already satisfied: colorama in c:\\users\\dawit shibabaw\\anaconda3\\lib\\site-packages (from ipython>=5.5.0->pycaret) (0.4.6)\n",
      "Requirement already satisfied: ipykernel>=4.5.1 in c:\\users\\dawit shibabaw\\anaconda3\\lib\\site-packages (from ipywidgets>=7.6.5->pycaret) (6.25.0)\n",
      "Requirement already satisfied: widgetsnbextension~=4.0 in c:\\users\\dawit shibabaw\\anaconda3\\lib\\site-packages (from ipywidgets>=7.6.5->pycaret) (4.0.5)\n",
      "Requirement already satisfied: jupyterlab-widgets~=3.0 in c:\\users\\dawit shibabaw\\anaconda3\\lib\\site-packages (from ipywidgets>=7.6.5->pycaret) (3.0.5)\n",
      "Requirement already satisfied: contourpy>=1.0.1 in c:\\users\\dawit shibabaw\\anaconda3\\lib\\site-packages (from matplotlib<=3.6,>=3.3.0->pycaret) (1.0.5)\n",
      "Requirement already satisfied: cycler>=0.10 in c:\\users\\dawit shibabaw\\anaconda3\\lib\\site-packages (from matplotlib<=3.6,>=3.3.0->pycaret) (0.11.0)\n",
      "Requirement already satisfied: fonttools>=4.22.0 in c:\\users\\dawit shibabaw\\anaconda3\\lib\\site-packages (from matplotlib<=3.6,>=3.3.0->pycaret) (4.25.0)\n",
      "Requirement already satisfied: kiwisolver>=1.0.1 in c:\\users\\dawit shibabaw\\anaconda3\\lib\\site-packages (from matplotlib<=3.6,>=3.3.0->pycaret) (1.4.4)\n",
      "Requirement already satisfied: pillow>=6.2.0 in c:\\users\\dawit shibabaw\\anaconda3\\lib\\site-packages (from matplotlib<=3.6,>=3.3.0->pycaret) (9.4.0)\n",
      "Requirement already satisfied: pyparsing>=2.2.1 in c:\\users\\dawit shibabaw\\anaconda3\\lib\\site-packages (from matplotlib<=3.6,>=3.3.0->pycaret) (3.0.9)\n",
      "Requirement already satisfied: python-dateutil>=2.7 in c:\\users\\dawit shibabaw\\anaconda3\\lib\\site-packages (from matplotlib<=3.6,>=3.3.0->pycaret) (2.8.2)\n",
      "Requirement already satisfied: fastjsonschema in c:\\users\\dawit shibabaw\\anaconda3\\lib\\site-packages (from nbformat>=4.2.0->pycaret) (2.16.2)\n",
      "Requirement already satisfied: jsonschema>=2.6 in c:\\users\\dawit shibabaw\\anaconda3\\lib\\site-packages (from nbformat>=4.2.0->pycaret) (4.17.3)\n",
      "Requirement already satisfied: jupyter-core in c:\\users\\dawit shibabaw\\anaconda3\\lib\\site-packages (from nbformat>=4.2.0->pycaret) (5.3.0)\n",
      "Requirement already satisfied: llvmlite<0.41,>=0.40.0dev0 in c:\\users\\dawit shibabaw\\anaconda3\\lib\\site-packages (from numba>=0.55.0->pycaret) (0.40.0)\n",
      "Requirement already satisfied: pytz>=2020.1 in c:\\users\\dawit shibabaw\\anaconda3\\lib\\site-packages (from pandas<2.0.0,>=1.3.0->pycaret) (2023.3.post1)\n",
      "Requirement already satisfied: tenacity>=6.2.0 in c:\\users\\dawit shibabaw\\anaconda3\\lib\\site-packages (from plotly>=5.0.0->pycaret) (8.2.2)\n",
      "Collecting dash<3.0.0,>=2.11.0 (from plotly-resampler>=0.8.3.1->pycaret)\n",
      "  Obtaining dependency information for dash<3.0.0,>=2.11.0 from https://files.pythonhosted.org/packages/7b/62/438626ab498869249e99376684ba6d88931e7c2dd86d03a92d9d7a9b4c54/dash-2.14.2-py3-none-any.whl.metadata\n",
      "  Using cached dash-2.14.2-py3-none-any.whl.metadata (11 kB)\n",
      "Collecting orjson<4.0.0,>=3.8.0 (from plotly-resampler>=0.8.3.1->pycaret)\n",
      "  Obtaining dependency information for orjson<4.0.0,>=3.8.0 from https://files.pythonhosted.org/packages/5d/67/d7837cf0ac956e3c81c67dda3e8f2ffc60dd50ffc480ec7c17f2e22a36ae/orjson-3.9.10-cp311-none-win_amd64.whl.metadata\n",
      "  Using cached orjson-3.9.10-cp311-none-win_amd64.whl.metadata (50 kB)\n",
      "Requirement already satisfied: trace-updater>=0.0.8 in c:\\users\\dawit shibabaw\\anaconda3\\lib\\site-packages (from plotly-resampler>=0.8.3.1->pycaret) (0.0.9.1)\n",
      "Requirement already satisfied: tsdownsample==0.1.2 in c:\\users\\dawit shibabaw\\anaconda3\\lib\\site-packages (from plotly-resampler>=0.8.3.1->pycaret) (0.1.2)\n",
      "Collecting Cython!=0.29.18,!=0.29.31,>=0.29 (from pmdarima!=1.8.1,<3.0.0,>=1.8.0->pycaret)\n",
      "  Obtaining dependency information for Cython!=0.29.18,!=0.29.31,>=0.29 from https://files.pythonhosted.org/packages/85/7d/58635941dfbb5b4e197adb88080b9cbfb230dc3b75683698a530a1989bdb/Cython-3.0.8-cp311-cp311-win_amd64.whl.metadata\n",
      "  Using cached Cython-3.0.8-cp311-cp311-win_amd64.whl.metadata (3.2 kB)\n",
      "Requirement already satisfied: urllib3 in c:\\users\\dawit shibabaw\\anaconda3\\lib\\site-packages (from pmdarima!=1.8.1,<3.0.0,>=1.8.0->pycaret) (1.26.16)\n",
      "Requirement already satisfied: setuptools!=50.0.0,>=38.6.0 in c:\\users\\dawit shibabaw\\anaconda3\\lib\\site-packages (from pmdarima!=1.8.1,<3.0.0,>=1.8.0->pycaret) (68.0.0)\n",
      "Requirement already satisfied: six in c:\\users\\dawit shibabaw\\anaconda3\\lib\\site-packages (from pyod>=1.0.8->pycaret) (1.16.0)\n",
      "Requirement already satisfied: charset-normalizer<4,>=2 in c:\\users\\dawit shibabaw\\anaconda3\\lib\\site-packages (from requests>=2.27.1->pycaret) (2.0.4)\n",
      "Requirement already satisfied: idna<4,>=2.5 in c:\\users\\dawit shibabaw\\anaconda3\\lib\\site-packages (from requests>=2.27.1->pycaret) (3.4)\n",
      "Requirement already satisfied: certifi>=2017.4.17 in c:\\users\\dawit shibabaw\\anaconda3\\lib\\site-packages (from requests>=2.27.1->pycaret) (2023.7.22)\n",
      "Collecting deprecated>=1.2.13 (from sktime!=0.17.1,!=0.17.2,!=0.18.0,<0.22.0,>=0.16.1->pycaret)\n",
      "  Obtaining dependency information for deprecated>=1.2.13 from https://files.pythonhosted.org/packages/20/8d/778b7d51b981a96554f29136cd59ca7880bf58094338085bcf2a979a0e6a/Deprecated-1.2.14-py2.py3-none-any.whl.metadata\n",
      "  Using cached Deprecated-1.2.14-py2.py3-none-any.whl.metadata (5.4 kB)\n",
      "Collecting scikit-base<0.6.0 (from sktime!=0.17.1,!=0.17.2,!=0.18.0,<0.22.0,>=0.16.1->pycaret)\n",
      "  Obtaining dependency information for scikit-base<0.6.0 from https://files.pythonhosted.org/packages/e1/05/c42d5834896d0c112e76bb5b1ff0532e06cda405ae3154be5593a4aa8f37/scikit_base-0.5.2-py3-none-any.whl.metadata\n",
      "  Using cached scikit_base-0.5.2-py3-none-any.whl.metadata (8.6 kB)\n",
      "Requirement already satisfied: Flask<3.1,>=1.0.4 in c:\\users\\dawit shibabaw\\anaconda3\\lib\\site-packages (from dash<3.0.0,>=2.11.0->plotly-resampler>=0.8.3.1->pycaret) (2.2.2)\n",
      "Requirement already satisfied: Werkzeug<3.1 in c:\\users\\dawit shibabaw\\anaconda3\\lib\\site-packages (from dash<3.0.0,>=2.11.0->plotly-resampler>=0.8.3.1->pycaret) (2.2.3)\n",
      "Requirement already satisfied: dash-html-components==2.0.0 in c:\\users\\dawit shibabaw\\anaconda3\\lib\\site-packages (from dash<3.0.0,>=2.11.0->plotly-resampler>=0.8.3.1->pycaret) (2.0.0)\n",
      "Requirement already satisfied: dash-core-components==2.0.0 in c:\\users\\dawit shibabaw\\anaconda3\\lib\\site-packages (from dash<3.0.0,>=2.11.0->plotly-resampler>=0.8.3.1->pycaret) (2.0.0)\n",
      "Requirement already satisfied: dash-table==5.0.0 in c:\\users\\dawit shibabaw\\anaconda3\\lib\\site-packages (from dash<3.0.0,>=2.11.0->plotly-resampler>=0.8.3.1->pycaret) (5.0.0)\n",
      "Requirement already satisfied: typing-extensions>=4.1.1 in c:\\users\\dawit shibabaw\\anaconda3\\lib\\site-packages (from dash<3.0.0,>=2.11.0->plotly-resampler>=0.8.3.1->pycaret) (4.7.1)\n",
      "Collecting retrying (from dash<3.0.0,>=2.11.0->plotly-resampler>=0.8.3.1->pycaret)\n",
      "  Using cached retrying-1.3.4-py3-none-any.whl (11 kB)\n",
      "Collecting ansi2html (from dash<3.0.0,>=2.11.0->plotly-resampler>=0.8.3.1->pycaret)\n",
      "  Obtaining dependency information for ansi2html from https://files.pythonhosted.org/packages/42/d7/1bc3433a2406b891182c25a7926abe3eb19af5870d540375ebf7795885b3/ansi2html-1.9.1-py3-none-any.whl.metadata\n",
      "  Using cached ansi2html-1.9.1-py3-none-any.whl.metadata (3.7 kB)\n",
      "Requirement already satisfied: nest-asyncio in c:\\users\\dawit shibabaw\\anaconda3\\lib\\site-packages (from dash<3.0.0,>=2.11.0->plotly-resampler>=0.8.3.1->pycaret) (1.5.6)\n",
      "Requirement already satisfied: wrapt<2,>=1.10 in c:\\users\\dawit shibabaw\\anaconda3\\lib\\site-packages (from deprecated>=1.2.13->sktime!=0.17.1,!=0.17.2,!=0.18.0,<0.22.0,>=0.16.1->pycaret) (1.14.1)\n",
      "Requirement already satisfied: comm>=0.1.1 in c:\\users\\dawit shibabaw\\anaconda3\\lib\\site-packages (from ipykernel>=4.5.1->ipywidgets>=7.6.5->pycaret) (0.1.2)\n",
      "Requirement already satisfied: debugpy>=1.6.5 in c:\\users\\dawit shibabaw\\anaconda3\\lib\\site-packages (from ipykernel>=4.5.1->ipywidgets>=7.6.5->pycaret) (1.6.7)\n",
      "Requirement already satisfied: jupyter-client>=6.1.12 in c:\\users\\dawit shibabaw\\anaconda3\\lib\\site-packages (from ipykernel>=4.5.1->ipywidgets>=7.6.5->pycaret) (7.4.9)\n",
      "Requirement already satisfied: pyzmq>=20 in c:\\users\\dawit shibabaw\\anaconda3\\lib\\site-packages (from ipykernel>=4.5.1->ipywidgets>=7.6.5->pycaret) (23.2.0)\n",
      "Requirement already satisfied: tornado>=6.1 in c:\\users\\dawit shibabaw\\anaconda3\\lib\\site-packages (from ipykernel>=4.5.1->ipywidgets>=7.6.5->pycaret) (6.3.2)\n",
      "Requirement already satisfied: parso<0.9.0,>=0.8.0 in c:\\users\\dawit shibabaw\\anaconda3\\lib\\site-packages (from jedi>=0.16->ipython>=5.5.0->pycaret) (0.8.3)\n",
      "Requirement already satisfied: attrs>=17.4.0 in c:\\users\\dawit shibabaw\\anaconda3\\lib\\site-packages (from jsonschema>=2.6->nbformat>=4.2.0->pycaret) (22.1.0)\n",
      "Requirement already satisfied: pyrsistent!=0.17.0,!=0.17.1,!=0.17.2,>=0.14.0 in c:\\users\\dawit shibabaw\\anaconda3\\lib\\site-packages (from jsonschema>=2.6->nbformat>=4.2.0->pycaret) (0.18.0)\n",
      "Requirement already satisfied: platformdirs>=2.5 in c:\\users\\dawit shibabaw\\anaconda3\\lib\\site-packages (from jupyter-core->nbformat>=4.2.0->pycaret) (3.10.0)\n",
      "Requirement already satisfied: pywin32>=300 in c:\\users\\dawit shibabaw\\anaconda3\\lib\\site-packages (from jupyter-core->nbformat>=4.2.0->pycaret) (305.1)\n",
      "Requirement already satisfied: wcwidth in c:\\users\\dawit shibabaw\\anaconda3\\lib\\site-packages (from prompt-toolkit!=3.0.37,<3.1.0,>=3.0.30->ipython>=5.5.0->pycaret) (0.2.5)\n",
      "Requirement already satisfied: executing in c:\\users\\dawit shibabaw\\anaconda3\\lib\\site-packages (from stack-data->ipython>=5.5.0->pycaret) (0.8.3)\n",
      "Requirement already satisfied: asttokens in c:\\users\\dawit shibabaw\\anaconda3\\lib\\site-packages (from stack-data->ipython>=5.5.0->pycaret) (2.0.5)\n",
      "Requirement already satisfied: pure-eval in c:\\users\\dawit shibabaw\\anaconda3\\lib\\site-packages (from stack-data->ipython>=5.5.0->pycaret) (0.2.2)\n",
      "Requirement already satisfied: itsdangerous>=2.0 in c:\\users\\dawit shibabaw\\anaconda3\\lib\\site-packages (from Flask<3.1,>=1.0.4->dash<3.0.0,>=2.11.0->plotly-resampler>=0.8.3.1->pycaret) (2.0.1)\n",
      "Requirement already satisfied: click>=8.0 in c:\\users\\dawit shibabaw\\anaconda3\\lib\\site-packages (from Flask<3.1,>=1.0.4->dash<3.0.0,>=2.11.0->plotly-resampler>=0.8.3.1->pycaret) (8.0.4)\n",
      "Requirement already satisfied: entrypoints in c:\\users\\dawit shibabaw\\anaconda3\\lib\\site-packages (from jupyter-client>=6.1.12->ipykernel>=4.5.1->ipywidgets>=7.6.5->pycaret) (0.4)\n",
      "Using cached pycaret-3.2.0-py3-none-any.whl (484 kB)\n",
      "Using cached category_encoders-2.6.3-py2.py3-none-any.whl (81 kB)\n",
      "Using cached lightgbm-4.2.0-py3-none-win_amd64.whl (1.3 MB)\n",
      "Using cached plotly_resampler-0.9.1-py3-none-any.whl (73 kB)\n",
      "Using cached pmdarima-2.0.4-cp311-cp311-win_amd64.whl (614 kB)\n",
      "Using cached sktime-0.21.1-py3-none-any.whl (17.1 MB)\n",
      "Using cached Cython-3.0.8-cp311-cp311-win_amd64.whl (2.8 MB)\n",
      "Using cached dash-2.14.2-py3-none-any.whl (10.2 MB)\n",
      "Using cached Deprecated-1.2.14-py2.py3-none-any.whl (9.6 kB)\n",
      "Using cached orjson-3.9.10-cp311-none-win_amd64.whl (135 kB)\n",
      "Using cached scikit_base-0.5.2-py3-none-any.whl (118 kB)\n",
      "Using cached ansi2html-1.9.1-py3-none-any.whl (17 kB)\n",
      "Installing collected packages: scipy, scikit-base, schemdraw, retrying, orjson, deprecation, deprecated, Cython, ansi2html, scikit-learn, pandas, matplotlib, lightgbm, yellowbrick, sktime, scikit-plot, pyod, dash, pmdarima, plotly-resampler, category-encoders, tbats, pycaret\n",
      "  Attempting uninstall: scikit-learn\n",
      "    Found existing installation: scikit-learn 1.3.0\n",
      "    Uninstalling scikit-learn-1.3.0:\n",
      "      Successfully uninstalled scikit-learn-1.3.0\n"
     ]
    },
    {
     "name": "stderr",
     "output_type": "stream",
     "text": [
      "WARNING: Ignoring invalid distribution ~cipy (C:\\Users\\Dawit Shibabaw\\anaconda3\\Lib\\site-packages)\n",
      "WARNING: Ignoring invalid distribution ~cipy (C:\\Users\\Dawit Shibabaw\\anaconda3\\Lib\\site-packages)\n",
      "ERROR: Could not install packages due to an OSError: [WinError 5] Access is denied: 'C:\\\\Users\\\\Dawit Shibabaw\\\\anaconda3\\\\Lib\\\\site-packages\\\\~klearn\\\\decomposition\\\\_cdnmf_fast.cp311-win_amd64.pyd'\n",
      "Consider using the `--user` option or check the permissions.\n",
      "\n"
     ]
    }
   ],
   "source": [
    "!pip install pycaret"
   ]
  },
  {
   "cell_type": "code",
   "execution_count": 3,
   "id": "db86845a-9f01-4a95-b4f8-533621fe8a62",
   "metadata": {
    "tags": []
   },
   "outputs": [
    {
     "name": "stdout",
     "output_type": "stream",
     "text": [
      "Collecting missingno\n",
      "  Downloading missingno-0.5.2-py3-none-any.whl (8.7 kB)\n",
      "Requirement already satisfied: numpy in c:\\users\\dawit shibabaw\\anaconda3\\lib\\site-packages (from missingno) (1.24.3)\n",
      "Requirement already satisfied: matplotlib in c:\\users\\dawit shibabaw\\anaconda3\\lib\\site-packages (from missingno) (3.7.2)\n",
      "Requirement already satisfied: scipy in c:\\users\\dawit shibabaw\\anaconda3\\lib\\site-packages (from missingno) (1.10.1)\n",
      "Requirement already satisfied: seaborn in c:\\users\\dawit shibabaw\\anaconda3\\lib\\site-packages (from missingno) (0.12.2)\n",
      "Requirement already satisfied: contourpy>=1.0.1 in c:\\users\\dawit shibabaw\\anaconda3\\lib\\site-packages (from matplotlib->missingno) (1.0.5)\n",
      "Requirement already satisfied: cycler>=0.10 in c:\\users\\dawit shibabaw\\anaconda3\\lib\\site-packages (from matplotlib->missingno) (0.11.0)\n",
      "Requirement already satisfied: fonttools>=4.22.0 in c:\\users\\dawit shibabaw\\anaconda3\\lib\\site-packages (from matplotlib->missingno) (4.25.0)\n",
      "Requirement already satisfied: kiwisolver>=1.0.1 in c:\\users\\dawit shibabaw\\anaconda3\\lib\\site-packages (from matplotlib->missingno) (1.4.4)\n",
      "Requirement already satisfied: packaging>=20.0 in c:\\users\\dawit shibabaw\\anaconda3\\lib\\site-packages (from matplotlib->missingno) (23.1)\n",
      "Requirement already satisfied: pillow>=6.2.0 in c:\\users\\dawit shibabaw\\anaconda3\\lib\\site-packages (from matplotlib->missingno) (9.4.0)\n",
      "Requirement already satisfied: pyparsing<3.1,>=2.3.1 in c:\\users\\dawit shibabaw\\anaconda3\\lib\\site-packages (from matplotlib->missingno) (3.0.9)\n",
      "Requirement already satisfied: python-dateutil>=2.7 in c:\\users\\dawit shibabaw\\anaconda3\\lib\\site-packages (from matplotlib->missingno) (2.8.2)\n",
      "Requirement already satisfied: pandas>=0.25 in c:\\users\\dawit shibabaw\\anaconda3\\lib\\site-packages (from seaborn->missingno) (2.0.3)\n",
      "Requirement already satisfied: pytz>=2020.1 in c:\\users\\dawit shibabaw\\anaconda3\\lib\\site-packages (from pandas>=0.25->seaborn->missingno) (2023.3.post1)\n",
      "Requirement already satisfied: tzdata>=2022.1 in c:\\users\\dawit shibabaw\\anaconda3\\lib\\site-packages (from pandas>=0.25->seaborn->missingno) (2023.3)\n",
      "Requirement already satisfied: six>=1.5 in c:\\users\\dawit shibabaw\\anaconda3\\lib\\site-packages (from python-dateutil>=2.7->matplotlib->missingno) (1.16.0)\n",
      "Installing collected packages: missingno\n",
      "Successfully installed missingno-0.5.2\n"
     ]
    }
   ],
   "source": [
    "!pip install missingno"
   ]
  },
  {
   "cell_type": "markdown",
   "id": "3564eefc",
   "metadata": {
    "papermill": {
     "duration": 0.137303,
     "end_time": "2021-12-25T05:50:55.646634",
     "exception": false,
     "start_time": "2021-12-25T05:50:55.509331",
     "status": "completed"
    },
    "tags": []
   },
   "source": [
    "<hr style=\"border: solid 3px blue;\">\n",
    "\n",
    "# Introduction\n",
    "\n",
    "![](https://upload.wikimedia.org/wikipedia/commons/6/6f/Pima.jpg) \n",
    "\n",
    "Picture Credit: https://upload.wikimedia.org\n",
    "\n",
    "**In this notebook, I would like to organize the following three ensemble models.**\n",
    "* Stacking Model\n",
    "* Soft Voting Model\n",
    "* Hard Voting Model\n",
    "\n",
    "After constructing and evaluating each model, we will select the optimal ensemble model to solve this problem."
   ]
  },
  {
   "cell_type": "markdown",
   "id": "da54fd9b",
   "metadata": {
    "papermill": {
     "duration": 0.137733,
     "end_time": "2021-12-25T05:50:55.920011",
     "exception": false,
     "start_time": "2021-12-25T05:50:55.782278",
     "status": "completed"
    },
    "tags": []
   },
   "source": [
    "Before we get started, let's take a quick look at datasets.\n",
    "\n",
    "**The objective of the dataset**\n",
    "\n",
    "> This dataset is originally from the National Institute of Diabetes and Digestive and Kidney Diseases. The objective of the dataset is to diagnostically predict whether or not a patient has diabetes, based on certain diagnostic measurements included in the dataset. Several constraints were placed on the selection of these instances from a larger database. In particular, all patients here are females at least 21 years old of Pima Indian heritage.\n",
    "\n",
    "**The Pima Indian Diabetes data set consists of:**\n",
    "\n",
    "* Pregnancies: Number of times pregnant\n",
    "* Glucose: Plasma glucose concentration a 2 hours in an oral glucose tolerance test\n",
    "* BloodPressure: Diastolic blood pressure (mm Hg)\n",
    "* SkinThickness: Triceps skin fold thickness (mm)\n",
    "* Insulin: 2-Hour serum insulin (mu U/ml)\n",
    "* BMI: Body mass index (weight in kg/(height in m)^2)\n",
    "* DiabetesPedigreeFunction: Diabetes pedigree function\n",
    "* Age: Age (years)\n",
    "* Outcome: Class variable (0 or 1) 268 of 768 are 1, the others are 0"
   ]
  },
  {
   "cell_type": "markdown",
   "id": "05ec1de6",
   "metadata": {
    "papermill": {
     "duration": 0.14249,
     "end_time": "2021-12-25T05:50:56.200638",
     "exception": false,
     "start_time": "2021-12-25T05:50:56.058148",
     "status": "completed"
    },
    "tags": []
   },
   "source": [
    "--------------------------------------------------------------------------------------------------------------------------\n",
    "# Load Libraries"
   ]
  },
  {
   "cell_type": "code",
   "execution_count": null,
   "id": "ac20b7e5",
   "metadata": {
    "papermill": {
     "duration": 2.131281,
     "end_time": "2021-12-25T05:50:58.467146",
     "exception": false,
     "start_time": "2021-12-25T05:50:56.335865",
     "status": "completed"
    },
    "tags": []
   },
   "outputs": [],
   "source": [
    "import pandas as pd\n",
    "\n",
    "import seaborn as sns\n",
    "import matplotlib.pyplot as plt\n",
    "from matplotlib import rcParams\n",
    "\n",
    "from sklearn import model_selection\n",
    "from sklearn.model_selection import train_test_split\n",
    "from sklearn.metrics import accuracy_score, precision_score, recall_score, roc_auc_score\n",
    "from sklearn.metrics import f1_score, confusion_matrix, precision_recall_curve, roc_curve\n",
    "from sklearn.metrics import ConfusionMatrixDisplay\n",
    "from sklearn.preprocessing import StandardScaler\n",
    "\n",
    "\n",
    "import plotly.express as px\n",
    "from plotly.subplots import make_subplots\n",
    "import plotly.graph_objects as go\n",
    "\n",
    "import warnings\n",
    "warnings.filterwarnings(action='ignore')"
   ]
  },
  {
   "cell_type": "markdown",
   "id": "0b9f0419",
   "metadata": {
    "papermill": {
     "duration": 0.140121,
     "end_time": "2021-12-25T05:50:58.747782",
     "exception": false,
     "start_time": "2021-12-25T05:50:58.607661",
     "status": "completed"
    },
    "tags": []
   },
   "source": [
    "# Defining Utility functions"
   ]
  },
  {
   "cell_type": "code",
   "execution_count": null,
   "id": "9fddbecf",
   "metadata": {
    "papermill": {
     "duration": 0.153414,
     "end_time": "2021-12-25T05:50:59.044225",
     "exception": false,
     "start_time": "2021-12-25T05:50:58.890811",
     "status": "completed"
    },
    "tags": []
   },
   "outputs": [],
   "source": [
    "def get_clf_eval(y_test, pred=None, pred_proba=None):\n",
    "    confusion = confusion_matrix( y_test, pred)\n",
    "    accuracy = accuracy_score(y_test , pred)\n",
    "    precision = precision_score(y_test , pred)\n",
    "    recall = recall_score(y_test , pred)\n",
    "    f1 = f1_score(y_test,pred)   \n",
    "     \n",
    "    roc_auc = roc_auc_score(y_test, pred_proba)\n",
    "\n",
    "    # ROC-AUC print \n",
    "    print('accuracy: {0:.4f}, precision: {1:.4f}, recall: {2:.4f},\\\n",
    "    F1: {3:.4f}, AUC:{4:.4f}'.format(accuracy, precision, recall, f1, roc_auc))\n",
    "    return confusion"
   ]
  },
  {
   "cell_type": "markdown",
   "id": "86cd8b62",
   "metadata": {
    "papermill": {
     "duration": 0.141771,
     "end_time": "2021-12-25T05:50:59.329261",
     "exception": false,
     "start_time": "2021-12-25T05:50:59.187490",
     "status": "completed"
    },
    "tags": []
   },
   "source": [
    "# Reading and Checking data"
   ]
  },
  {
   "cell_type": "code",
   "execution_count": null,
   "id": "1ab7af9e",
   "metadata": {
    "papermill": {
     "duration": 0.24566,
     "end_time": "2021-12-25T05:50:59.710773",
     "exception": false,
     "start_time": "2021-12-25T05:50:59.465113",
     "status": "completed"
    },
    "tags": []
   },
   "outputs": [],
   "source": [
    "diabetes_df = pd.read_csv(\"../input/pima-indians-diabetes-database/diabetes.csv\")\n",
    "diabetes_df.head().T.style.set_properties(**{'background-color': 'grey',\n",
    "                           'color': 'white',\n",
    "                           'border-color': 'white'})"
   ]
  },
  {
   "cell_type": "markdown",
   "id": "6eaa99c3",
   "metadata": {
    "papermill": {
     "duration": 0.137203,
     "end_time": "2021-12-25T05:50:59.985071",
     "exception": false,
     "start_time": "2021-12-25T05:50:59.847868",
     "status": "completed"
    },
    "tags": []
   },
   "source": [
    "DiabetesPedigreeFunction has a long name. Change to DPF."
   ]
  },
  {
   "cell_type": "code",
   "execution_count": null,
   "id": "f49221dd",
   "metadata": {
    "papermill": {
     "duration": 0.144392,
     "end_time": "2021-12-25T05:51:00.264630",
     "exception": false,
     "start_time": "2021-12-25T05:51:00.120238",
     "status": "completed"
    },
    "tags": []
   },
   "outputs": [],
   "source": [
    "diabetes_df.rename(columns ={\"DiabetesPedigreeFunction\":\"DPF\"},inplace=True)"
   ]
  },
  {
   "cell_type": "markdown",
   "id": "2bceeff4",
   "metadata": {
    "papermill": {
     "duration": 0.135016,
     "end_time": "2021-12-25T05:51:00.534720",
     "exception": false,
     "start_time": "2021-12-25T05:51:00.399704",
     "status": "completed"
    },
    "tags": []
   },
   "source": [
    "--------------------------------------------\n",
    "# EDA"
   ]
  },
  {
   "cell_type": "markdown",
   "id": "671b296b",
   "metadata": {
    "papermill": {
     "duration": 0.136744,
     "end_time": "2021-12-25T05:51:00.807198",
     "exception": false,
     "start_time": "2021-12-25T05:51:00.670454",
     "status": "completed"
    },
    "tags": []
   },
   "source": [
    "## Checking Missing Values and Data type\n",
    "Let's check if there are missing values."
   ]
  },
  {
   "cell_type": "code",
   "execution_count": null,
   "id": "fe61eb3e",
   "metadata": {
    "papermill": {
     "duration": 0.656932,
     "end_time": "2021-12-25T05:51:01.599844",
     "exception": false,
     "start_time": "2021-12-25T05:51:00.942912",
     "status": "completed"
    },
    "tags": []
   },
   "outputs": [],
   "source": [
    "import missingno as msno\n",
    "msno.matrix(diabetes_df)"
   ]
  },
  {
   "cell_type": "markdown",
   "id": "506dade0",
   "metadata": {
    "papermill": {
     "duration": 0.138072,
     "end_time": "2021-12-25T05:51:01.877662",
     "exception": false,
     "start_time": "2021-12-25T05:51:01.739590",
     "status": "completed"
    },
    "tags": []
   },
   "source": [
    "**Good!. There is no missing value and all features type are number. Therefore, there is no need to preprocess for missing values.**"
   ]
  },
  {
   "cell_type": "markdown",
   "id": "3fb935ce",
   "metadata": {
    "papermill": {
     "duration": 0.13745,
     "end_time": "2021-12-25T05:51:02.152176",
     "exception": false,
     "start_time": "2021-12-25T05:51:02.014726",
     "status": "completed"
    },
    "tags": []
   },
   "source": [
    "## Checking Target Imbalance"
   ]
  },
  {
   "cell_type": "code",
   "execution_count": null,
   "id": "696cf3c1",
   "metadata": {
    "papermill": {
     "duration": 0.268004,
     "end_time": "2021-12-25T05:51:02.559452",
     "exception": false,
     "start_time": "2021-12-25T05:51:02.291448",
     "status": "completed"
    },
    "tags": []
   },
   "outputs": [],
   "source": [
    "colors = ['gold', 'mediumturquoise']\n",
    "labels = ['0','1']\n",
    "values = diabetes_df['Outcome'].value_counts()/diabetes_df['Outcome'].shape[0]\n",
    "\n",
    "# Use `hole` to create a donut-like pie chart\n",
    "fig = go.Figure(data=[go.Pie(labels=labels, values=values, hole=.3)])\n",
    "fig.update_traces(hoverinfo='label+percent', textinfo='percent', textfont_size=20,\n",
    "                  marker=dict(colors=colors, line=dict(color='#000000', width=2)))\n",
    "fig.update_layout(\n",
    "    title_text=\"Outcome\")\n",
    "fig.show()"
   ]
  },
  {
   "cell_type": "markdown",
   "id": "f158fed1",
   "metadata": {
    "papermill": {
     "duration": 0.145325,
     "end_time": "2021-12-25T05:51:02.855890",
     "exception": false,
     "start_time": "2021-12-25T05:51:02.710565",
     "status": "completed"
    },
    "tags": []
   },
   "source": [
    "OK! The target is well balanced."
   ]
  },
  {
   "cell_type": "markdown",
   "id": "d6e9635b",
   "metadata": {
    "papermill": {
     "duration": 0.140884,
     "end_time": "2021-12-25T05:51:03.139780",
     "exception": false,
     "start_time": "2021-12-25T05:51:02.998896",
     "status": "completed"
    },
    "tags": []
   },
   "source": [
    "## Checking Statistics"
   ]
  },
  {
   "cell_type": "code",
   "execution_count": null,
   "id": "dc658450",
   "metadata": {
    "papermill": {
     "duration": 0.191926,
     "end_time": "2021-12-25T05:51:03.556913",
     "exception": false,
     "start_time": "2021-12-25T05:51:03.364987",
     "status": "completed"
    },
    "tags": []
   },
   "outputs": [],
   "source": [
    "def highlight_min(s, props=''):\n",
    "    return np.where(s == np.nanmin(s.values), props, '')\n",
    "\n",
    "diabetes_df.describe().style.apply(highlight_min, props='color:Black;background-color:Grey', axis=0)"
   ]
  },
  {
   "cell_type": "markdown",
   "id": "96c62a24",
   "metadata": {
    "papermill": {
     "duration": 0.137485,
     "end_time": "2021-12-25T05:51:03.833058",
     "exception": false,
     "start_time": "2021-12-25T05:51:03.695573",
     "status": "completed"
    },
    "tags": []
   },
   "source": [
    "**Among the features, there are many features whose min() value is 0. Let's check out more of these features.**"
   ]
  },
  {
   "cell_type": "markdown",
   "id": "f5ec6ef4",
   "metadata": {
    "papermill": {
     "duration": 0.139603,
     "end_time": "2021-12-25T05:51:04.110708",
     "exception": false,
     "start_time": "2021-12-25T05:51:03.971105",
     "status": "completed"
    },
    "tags": []
   },
   "source": [
    "--------------------------------------------------\n",
    "# Checking and Removing Outliers"
   ]
  },
  {
   "cell_type": "code",
   "execution_count": null,
   "id": "8ca63fa4",
   "metadata": {
    "papermill": {
     "duration": 0.146301,
     "end_time": "2021-12-25T05:51:04.394705",
     "exception": false,
     "start_time": "2021-12-25T05:51:04.248404",
     "status": "completed"
    },
    "tags": []
   },
   "outputs": [],
   "source": [
    "feature_names = [cname for cname in diabetes_df.loc[:,:'Age'].columns]"
   ]
  },
  {
   "cell_type": "code",
   "execution_count": null,
   "id": "6c94055f",
   "metadata": {
    "papermill": {
     "duration": 4.390238,
     "end_time": "2021-12-25T05:51:08.923802",
     "exception": false,
     "start_time": "2021-12-25T05:51:04.533564",
     "status": "completed"
    },
    "tags": []
   },
   "outputs": [],
   "source": [
    "rcParams['figure.figsize'] = 40,60\n",
    "sns.set(font_scale = 3)\n",
    "sns.set_style(\"white\")\n",
    "sns.set_palette(\"bright\")\n",
    "plt.subplots_adjust(hspace=0.5)\n",
    "i = 1;\n",
    "for name in feature_names:\n",
    "    plt.subplot(5,2,i)\n",
    "    sns.histplot(data=diabetes_df, x=name, hue=\"Outcome\",kde=True,palette=\"YlGnBu\")\n",
    "    i = i + 1"
   ]
  },
  {
   "cell_type": "markdown",
   "id": "48bc14a6",
   "metadata": {
    "papermill": {
     "duration": 0.151273,
     "end_time": "2021-12-25T05:51:09.234212",
     "exception": false,
     "start_time": "2021-12-25T05:51:09.082939",
     "status": "completed"
    },
    "tags": []
   },
   "source": [
    "Looking at the pictures above, it would be good to change the zero value of each feature to another value.\n",
    "First, let's calculate the proportion of zero values in each feature."
   ]
  },
  {
   "cell_type": "code",
   "execution_count": null,
   "id": "46a95e4a",
   "metadata": {
    "papermill": {
     "duration": 0.167609,
     "end_time": "2021-12-25T05:51:09.552667",
     "exception": false,
     "start_time": "2021-12-25T05:51:09.385058",
     "status": "completed"
    },
    "tags": []
   },
   "outputs": [],
   "source": [
    "zero_features = ['Pregnancies','Glucose','BloodPressure','SkinThickness',\"Insulin\",'BMI']\n",
    "total_count = diabetes_df['Glucose'].count()\n",
    "\n",
    "for feature in zero_features:\n",
    "    zero_count = diabetes_df[diabetes_df[feature]==0][feature].count()\n",
    "    print('{0} 0 number of cases {1}, percent is {2:.2f} %'.format(feature, zero_count, 100*zero_count/total_count))"
   ]
  },
  {
   "cell_type": "markdown",
   "id": "c681b3a1",
   "metadata": {
    "papermill": {
     "duration": 0.150794,
     "end_time": "2021-12-25T05:51:09.857304",
     "exception": false,
     "start_time": "2021-12-25T05:51:09.706510",
     "status": "completed"
    },
    "tags": []
   },
   "source": [
    "As shown above, the ratio of the value of zero in the SkinThickness and Insulin features seems to be high. Let's change the corresponding values to the mean value of each feature. \n",
    "\n",
    "> However, a zero value may be meaningful to the corresponding feature. If you have an expert with expertise in diabetes, you will be able to confirm that your decision is correct.\n",
    "However, since there is no such domain knowledge or friends, we will first replace the corresponding value with the mean value."
   ]
  },
  {
   "cell_type": "code",
   "execution_count": null,
   "id": "5264a19a",
   "metadata": {
    "papermill": {
     "duration": 0.169468,
     "end_time": "2021-12-25T05:51:10.180737",
     "exception": false,
     "start_time": "2021-12-25T05:51:10.011269",
     "status": "completed"
    },
    "tags": []
   },
   "outputs": [],
   "source": [
    "diabetes_mean = diabetes_df[zero_features].mean()\n",
    "diabetes_df[zero_features]=diabetes_df[zero_features].replace(0, diabetes_mean)"
   ]
  },
  {
   "cell_type": "markdown",
   "id": "1eaed583",
   "metadata": {
    "papermill": {
     "duration": 0.150121,
     "end_time": "2021-12-25T05:51:10.481482",
     "exception": false,
     "start_time": "2021-12-25T05:51:10.331361",
     "status": "completed"
    },
    "tags": []
   },
   "source": [
    "If we remove the zero value of each feature, we have a distribution similar to the normal distribution. Therefore, perform linear scaling and standard scaling."
   ]
  },
  {
   "cell_type": "code",
   "execution_count": null,
   "id": "645cbdb1",
   "metadata": {
    "papermill": {
     "duration": 0.16031,
     "end_time": "2021-12-25T05:51:10.791700",
     "exception": false,
     "start_time": "2021-12-25T05:51:10.631390",
     "status": "completed"
    },
    "tags": []
   },
   "outputs": [],
   "source": [
    "X = diabetes_df.iloc[:,:-1]\n",
    "y = diabetes_df.iloc[:,-1]"
   ]
  },
  {
   "cell_type": "markdown",
   "id": "4bc92c2f",
   "metadata": {
    "papermill": {
     "duration": 0.152919,
     "end_time": "2021-12-25T05:51:11.095621",
     "exception": false,
     "start_time": "2021-12-25T05:51:10.942702",
     "status": "completed"
    },
    "tags": []
   },
   "source": [
    "-------------------------------------------\n",
    "# Scaling\n",
    "\n",
    "Although the zero values of each feature are converted to mean values, some features have a one-sided shape. Therefore, we decided to perform nonlinear scaling, and decided to use the QuantileTransformer that changes the distribution closest to the normal distribution by referring to the notebook referenced below.\n",
    "\n",
    "> The quantile function ranks or smooths out the relationship between observations and can be mapped onto other distributions, such as the uniform or normal distribution.\n",
    "\n",
    "If you want to know more about Scaling, please refer to the notebook below.\n",
    "\n",
    "[Notebook](https://www.kaggle.com/ohseokkim/preprocessing-linear-nonlinear-scaling)"
   ]
  },
  {
   "cell_type": "code",
   "execution_count": null,
   "id": "21375e5a",
   "metadata": {
    "papermill": {
     "duration": 0.174772,
     "end_time": "2021-12-25T05:51:11.421402",
     "exception": false,
     "start_time": "2021-12-25T05:51:11.246630",
     "status": "completed"
    },
    "tags": []
   },
   "outputs": [],
   "source": [
    "from sklearn.preprocessing import QuantileTransformer\n",
    "scaler = QuantileTransformer(n_quantiles=100, random_state=0, output_distribution='normal')\n",
    "X_scaled = scaler.fit_transform(X)"
   ]
  },
  {
   "cell_type": "code",
   "execution_count": null,
   "id": "d1d4d631",
   "metadata": {
    "papermill": {
     "duration": 0.162552,
     "end_time": "2021-12-25T05:51:11.736711",
     "exception": false,
     "start_time": "2021-12-25T05:51:11.574159",
     "status": "completed"
    },
    "tags": []
   },
   "outputs": [],
   "source": [
    "X_train, X_test, y_train, y_test = train_test_split(X, y, test_size=0.25, random_state=42)"
   ]
  },
  {
   "cell_type": "code",
   "execution_count": null,
   "id": "3b36d504",
   "metadata": {
    "papermill": {
     "duration": 0.191678,
     "end_time": "2021-12-25T05:51:12.082171",
     "exception": false,
     "start_time": "2021-12-25T05:51:11.890493",
     "status": "completed"
    },
    "tags": []
   },
   "outputs": [],
   "source": [
    "def highlight_min(s, props=''):\n",
    "    return np.where(s == np.nanmin(s.values), props, '')\n",
    "\n",
    "X_train.describe().style.apply(highlight_min, props='color:Black;background-color:Grey', axis=0)"
   ]
  },
  {
   "cell_type": "code",
   "execution_count": null,
   "id": "635bdc74",
   "metadata": {
    "papermill": {
     "duration": 4.468118,
     "end_time": "2021-12-25T05:51:16.701015",
     "exception": false,
     "start_time": "2021-12-25T05:51:12.232897",
     "status": "completed"
    },
    "tags": []
   },
   "outputs": [],
   "source": [
    "rcParams['figure.figsize'] = 40,60\n",
    "sns.set(font_scale = 3)\n",
    "sns.set_style(\"white\")\n",
    "sns.set_palette(\"bright\")\n",
    "plt.subplots_adjust(hspace=0.5)\n",
    "i = 1;\n",
    "for name in feature_names:\n",
    "    plt.subplot(5,2,i)\n",
    "    sns.histplot(data=diabetes_df, x=name, hue=\"Outcome\",kde=True,palette=\"YlGnBu\")\n",
    "    i = i + 1"
   ]
  },
  {
   "cell_type": "markdown",
   "id": "ddbd5d2a",
   "metadata": {
    "papermill": {
     "duration": 0.164102,
     "end_time": "2021-12-25T05:51:17.032721",
     "exception": false,
     "start_time": "2021-12-25T05:51:16.868619",
     "status": "completed"
    },
    "tags": []
   },
   "source": [
    "Looking at the picture above, you can see that the zero value is removed and scaling is done. However, the shape of the distribution of Pregnancies does not look good."
   ]
  },
  {
   "cell_type": "markdown",
   "id": "98a297af",
   "metadata": {
    "papermill": {
     "duration": 0.166716,
     "end_time": "2021-12-25T05:51:17.365708",
     "exception": false,
     "start_time": "2021-12-25T05:51:17.198992",
     "status": "completed"
    },
    "tags": []
   },
   "source": [
    "# Checking correlation between features\n",
    "\n",
    "Let's check the correlations between each variable."
   ]
  },
  {
   "cell_type": "code",
   "execution_count": null,
   "id": "59bf2ad4",
   "metadata": {
    "papermill": {
     "duration": 0.877226,
     "end_time": "2021-12-25T05:51:18.408341",
     "exception": false,
     "start_time": "2021-12-25T05:51:17.531115",
     "status": "completed"
    },
    "tags": []
   },
   "outputs": [],
   "source": [
    "corr=diabetes_df.corr().round(2)\n",
    "\n",
    "sns.set(font_scale=1.15)\n",
    "plt.figure(figsize=(14, 10))\n",
    "sns.set_palette(\"bright\")\n",
    "sns.set_style(\"white\")\n",
    "mask = np.zeros_like(corr)\n",
    "mask[np.triu_indices_from(mask)] = True\n",
    "sns.heatmap(corr,annot=True,cmap='gist_yarg_r',mask=mask,cbar=True)\n",
    "plt.title('Correlation Plot')"
   ]
  },
  {
   "cell_type": "code",
   "execution_count": null,
   "id": "aa2eccbd",
   "metadata": {
    "papermill": {
     "duration": 16.135879,
     "end_time": "2021-12-25T05:51:34.720033",
     "exception": false,
     "start_time": "2021-12-25T05:51:18.584154",
     "status": "completed"
    },
    "tags": []
   },
   "outputs": [],
   "source": [
    "sns.set(font_scale=2)\n",
    "plt.figure(figsize=(10, 8))\n",
    "sns.set_style(\"white\")\n",
    "sns.set_palette(\"bright\")\n",
    "sns.pairplot(diabetes_df,kind = 'reg',corner = True,palette ='YlGnBu' )"
   ]
  },
  {
   "cell_type": "markdown",
   "id": "e25f60e7",
   "metadata": {
    "papermill": {
     "duration": 0.178722,
     "end_time": "2021-12-25T05:51:35.079456",
     "exception": false,
     "start_time": "2021-12-25T05:51:34.900734",
     "status": "completed"
    },
    "tags": []
   },
   "source": [
    "<span style=\"color:Blue\"> **Observation:**\n",
    "* The correlation between Outcome and Glucose is high. Glucoe seems to be the most important feature in model training.\n",
    "* BMI, Pregnancys, and Age are also expected to be used as important features in model training.\n",
    "* High correlation coefficient with SkinThickness and BMI. There may be a multicollinearity problem, but if there is a performance problem after checking the result, check it again."
   ]
  },
  {
   "cell_type": "markdown",
   "id": "2eb3189a",
   "metadata": {
    "papermill": {
     "duration": 0.17618,
     "end_time": "2021-12-25T05:51:35.431731",
     "exception": false,
     "start_time": "2021-12-25T05:51:35.255551",
     "status": "completed"
    },
    "tags": []
   },
   "source": [
    "-----------------------------------------------\n",
    "# Checking features before modeling"
   ]
  },
  {
   "cell_type": "markdown",
   "id": "ad042041",
   "metadata": {
    "papermill": {
     "duration": 0.178216,
     "end_time": "2021-12-25T05:51:35.787671",
     "exception": false,
     "start_time": "2021-12-25T05:51:35.609455",
     "status": "completed"
    },
    "tags": []
   },
   "source": [
    "Looking at the figure above, the correlation coefficient between Outcome and Glucose is the highest at 0.49. Let's examine this in more depth."
   ]
  },
  {
   "cell_type": "code",
   "execution_count": null,
   "id": "2a049700",
   "metadata": {
    "_kg_hide-input": true,
    "papermill": {
     "duration": 1.231793,
     "end_time": "2021-12-25T05:51:37.196515",
     "exception": false,
     "start_time": "2021-12-25T05:51:35.964722",
     "status": "completed"
    },
    "tags": []
   },
   "outputs": [],
   "source": [
    "fig = px.histogram(diabetes_df, x=\"Glucose\", \n",
    "                   color=\"Outcome\", \n",
    "                   marginal=\"box\",\n",
    "                   barmode =\"overlay\",\n",
    "                   histnorm ='density'\n",
    "                  )  \n",
    "fig.update_layout(\n",
    "    title_font_color=\"black\",\n",
    "    legend_title_font_color=\"green\",\n",
    "    title={\n",
    "        'text': \"Glucose Histogram per Outcome\",\n",
    "        'x':0.5,\n",
    "        'xanchor': 'center',\n",
    "        'yanchor': 'top'},\n",
    ")\n",
    "fig.show()"
   ]
  },
  {
   "cell_type": "code",
   "execution_count": null,
   "id": "b6ca6bfe",
   "metadata": {
    "_kg_hide-input": true,
    "papermill": {
     "duration": 0.286551,
     "end_time": "2021-12-25T05:51:37.661251",
     "exception": false,
     "start_time": "2021-12-25T05:51:37.374700",
     "status": "completed"
    },
    "tags": []
   },
   "outputs": [],
   "source": [
    "import plotly.express as px\n",
    "fig = px.histogram(diabetes_df, x=\"BMI\", \n",
    "                   color=\"Outcome\", \n",
    "                   marginal=\"box\",\n",
    "                   barmode =\"overlay\",\n",
    "                   histnorm ='density'\n",
    "                  )  \n",
    "fig.update_layout(\n",
    "    title_font_color=\"black\",\n",
    "    legend_title_font_color=\"green\",\n",
    "    title={\n",
    "        'text': \"BMI Histogram per Outcome\",\n",
    "        'x':0.5,\n",
    "        'xanchor': 'center',\n",
    "        'yanchor': 'top'},\n",
    ")\n",
    "fig.show()"
   ]
  },
  {
   "cell_type": "code",
   "execution_count": null,
   "id": "17af4c33",
   "metadata": {
    "_kg_hide-input": true,
    "papermill": {
     "duration": 0.314911,
     "end_time": "2021-12-25T05:51:38.155715",
     "exception": false,
     "start_time": "2021-12-25T05:51:37.840804",
     "status": "completed"
    },
    "tags": []
   },
   "outputs": [],
   "source": [
    "import plotly.express as px\n",
    "fig = px.histogram(diabetes_df, x=\"Age\", \n",
    "                   color=\"Outcome\", \n",
    "                   marginal=\"box\",\n",
    "                   barmode =\"overlay\",\n",
    "                   histnorm ='density'\n",
    "                  )  \n",
    "fig.update_layout(\n",
    "    title_font_color=\"black\",\n",
    "    legend_title_font_color=\"green\",\n",
    "    title={\n",
    "        'text': \"Age Histogram per Outcome\",\n",
    "        'x':0.5,\n",
    "        'xanchor': 'center',\n",
    "        'yanchor': 'top'},\n",
    ")\n",
    "fig.show()"
   ]
  },
  {
   "cell_type": "markdown",
   "id": "764abaee",
   "metadata": {
    "papermill": {
     "duration": 0.180356,
     "end_time": "2021-12-25T05:51:38.524163",
     "exception": false,
     "start_time": "2021-12-25T05:51:38.343807",
     "status": "completed"
    },
    "tags": []
   },
   "source": [
    "From the above figures, you can see what distribution each feature has for each output. In the case of glucose with high correlation, it can be seen that the distribution of outcomes 1 and 0 has a more distant shape than other features. In this case, it is expected to have a better effect on classification."
   ]
  },
  {
   "cell_type": "markdown",
   "id": "39a6a4ef",
   "metadata": {
    "papermill": {
     "duration": 0.182532,
     "end_time": "2021-12-25T05:51:38.886707",
     "exception": false,
     "start_time": "2021-12-25T05:51:38.704175",
     "status": "completed"
    },
    "tags": []
   },
   "source": [
    "**OK! Let's make models and train it.**"
   ]
  },
  {
   "cell_type": "markdown",
   "id": "d70a4f6d",
   "metadata": {
    "papermill": {
     "duration": 0.180417,
     "end_time": "2021-12-25T05:51:39.249141",
     "exception": false,
     "start_time": "2021-12-25T05:51:39.068724",
     "status": "completed"
    },
    "tags": []
   },
   "source": [
    "----------------------------------------------------------------------------\n",
    "# Visualizing Training Dataset after Dimension Reduction"
   ]
  },
  {
   "cell_type": "code",
   "execution_count": null,
   "id": "4a246174",
   "metadata": {
    "papermill": {
     "duration": 0.188698,
     "end_time": "2021-12-25T05:51:39.617729",
     "exception": false,
     "start_time": "2021-12-25T05:51:39.429031",
     "status": "completed"
    },
    "tags": []
   },
   "outputs": [],
   "source": [
    "X_train = diabetes_df.drop('Outcome',axis=1)\n",
    "y_train = diabetes_df['Outcome']"
   ]
  },
  {
   "cell_type": "markdown",
   "id": "8c7da182",
   "metadata": {
    "papermill": {
     "duration": 0.179327,
     "end_time": "2021-12-25T05:51:39.978207",
     "exception": false,
     "start_time": "2021-12-25T05:51:39.798880",
     "status": "completed"
    },
    "tags": []
   },
   "source": [
    "## 2D plot"
   ]
  },
  {
   "cell_type": "code",
   "execution_count": null,
   "id": "dd82d32e",
   "metadata": {
    "papermill": {
     "duration": 38.901159,
     "end_time": "2021-12-25T05:52:19.058961",
     "exception": false,
     "start_time": "2021-12-25T05:51:40.157802",
     "status": "completed"
    },
    "tags": []
   },
   "outputs": [],
   "source": [
    "import umap\n",
    "import umap.plot\n",
    "\n",
    "mapper = umap.UMAP().fit(X_train) \n",
    "umap.plot.points(mapper, labels=y_train, theme='fire')"
   ]
  },
  {
   "cell_type": "markdown",
   "id": "75a160fe",
   "metadata": {
    "papermill": {
     "duration": 0.181812,
     "end_time": "2021-12-25T05:52:19.427441",
     "exception": false,
     "start_time": "2021-12-25T05:52:19.245629",
     "status": "completed"
    },
    "tags": []
   },
   "source": [
    "The 8-dimensional training dataset shown in the figure above is drawn by reducing the dimensions to 2D. As you can see in the figure, positive and negative are overlapped at the bottom of the figure. Since our models are mainly tree-based models, we will mainly work on determining the boundary, but it seems to be a difficult task in 2D.\n",
    "\n",
    "However, our training dataset is 8-dimensional, just that we can't visualize it. Therefore, it will not be a very difficult task for our models to determine the boundary as shown above."
   ]
  },
  {
   "cell_type": "markdown",
   "id": "1ad7c8e9",
   "metadata": {
    "papermill": {
     "duration": 0.183537,
     "end_time": "2021-12-25T05:52:19.793219",
     "exception": false,
     "start_time": "2021-12-25T05:52:19.609682",
     "status": "completed"
    },
    "tags": []
   },
   "source": [
    "## 3D plot"
   ]
  },
  {
   "cell_type": "code",
   "execution_count": null,
   "id": "68070eac",
   "metadata": {
    "papermill": {
     "duration": 3.896725,
     "end_time": "2021-12-25T05:52:23.872538",
     "exception": false,
     "start_time": "2021-12-25T05:52:19.975813",
     "status": "completed"
    },
    "tags": []
   },
   "outputs": [],
   "source": [
    "from umap import UMAP\n",
    "\n",
    "umap_3d = UMAP(n_components=3, init='random', random_state=0)\n",
    "x_umap = umap_3d.fit_transform(X_train)\n",
    "umap_df = pd.DataFrame(x_umap)\n",
    "train_y_sr = pd.Series(y_train,name='label').astype(str)\n",
    "print(type(x_umap))\n",
    "new_df = pd.concat([umap_df,train_y_sr],axis=1)\n",
    "fig = px.scatter_3d(\n",
    "    new_df, x=0, y=1, z=2,\n",
    "    color='label', labels={'color': 'number'}\n",
    ")\n",
    "fig.update_traces(marker_size=1.5)\n",
    "fig.show()"
   ]
  },
  {
   "cell_type": "markdown",
   "id": "767f7ee2",
   "metadata": {
    "papermill": {
     "duration": 0.186766,
     "end_time": "2021-12-25T05:52:24.246701",
     "exception": false,
     "start_time": "2021-12-25T05:52:24.059935",
     "status": "completed"
    },
    "tags": []
   },
   "source": [
    "Even if you increase the dimension to 3D, you can see overlapping points. We want to see it from a higher dimension, but we can't draw.\n",
    "\n",
    "**Now, all we have to do is do some good modeling and fine tune the hyperparameters.**"
   ]
  },
  {
   "cell_type": "markdown",
   "id": "b8846062",
   "metadata": {
    "papermill": {
     "duration": 0.185003,
     "end_time": "2021-12-25T05:52:24.614947",
     "exception": false,
     "start_time": "2021-12-25T05:52:24.429944",
     "status": "completed"
    },
    "tags": []
   },
   "source": [
    "<hr style=\"border: solid 3px blue;\">\n",
    "\n",
    "# Ensemble\n",
    "\n",
    "![](https://miro.medium.com/max/637/1*3GIDYOn2GNcv9bq4bQk5YA.jpeg)\n",
    "\n",
    "Picture Credit: https://miro.medium.com\n",
    "\n",
    "> Supervised learning algorithms perform the task of searching through a hypothesis space to find a suitable hypothesis that will make good predictions with a particular problem.Even if the hypothesis space contains hypotheses that are very well-suited for a particular problem, it may be very difficult to find a good one. Ensembles combine multiple hypotheses to form a (hopefully) better hypothesis. The term ensemble is usually reserved for methods that generate multiple hypotheses using the same base learner. The broader term of multiple classifier systems also covers hybridization of hypotheses that are not induced by the same base learner.\n",
    "\n",
    "Ref: https://en.wikipedia.org/wiki/Ensemble_learning\n"
   ]
  },
  {
   "cell_type": "code",
   "execution_count": null,
   "id": "496aa47d",
   "metadata": {
    "papermill": {
     "duration": 0.510158,
     "end_time": "2021-12-25T05:52:25.309785",
     "exception": false,
     "start_time": "2021-12-25T05:52:24.799627",
     "status": "completed"
    },
    "tags": []
   },
   "outputs": [],
   "source": [
    "from pycaret.classification import *"
   ]
  },
  {
   "cell_type": "markdown",
   "id": "88e97c24",
   "metadata": {
    "papermill": {
     "duration": 0.184065,
     "end_time": "2021-12-25T05:52:25.678642",
     "exception": false,
     "start_time": "2021-12-25T05:52:25.494577",
     "status": "completed"
    },
    "tags": []
   },
   "source": [
    "## Setup\n",
    "\n",
    "> This function initializes the training environment and creates the transformation pipeline. Setup function must be called before executing any other function. It takes two mandatory parameters: data and target. All the other parameters are optional.\n",
    "\n",
    "Ref: https://pycaret.readthedocs.io/en/latest/api/classification.html"
   ]
  },
  {
   "cell_type": "code",
   "execution_count": null,
   "id": "efdc9903",
   "metadata": {
    "_kg_hide-output": true,
    "papermill": {
     "duration": 1.640515,
     "end_time": "2021-12-25T05:52:27.505619",
     "exception": false,
     "start_time": "2021-12-25T05:52:25.865104",
     "status": "completed"
    },
    "tags": []
   },
   "outputs": [],
   "source": [
    "clf1 = setup(data = diabetes_df, \n",
    "             target = 'Outcome',\n",
    "             preprocess = False,\n",
    "             silent = True)"
   ]
  },
  {
   "cell_type": "markdown",
   "id": "77b8d92c",
   "metadata": {
    "papermill": {
     "duration": 0.186737,
     "end_time": "2021-12-25T05:52:27.881168",
     "exception": false,
     "start_time": "2021-12-25T05:52:27.694431",
     "status": "completed"
    },
    "tags": []
   },
   "source": [
    "## Comparing Models\n",
    "\n",
    "> This function trains and evaluates performance of all estimators available in the model library using cross validation. The output of this function is a score grid with average cross validated scores. \n",
    "\n",
    "Ref: https://pycaret.readthedocs.io/en/latest/api/classification.html"
   ]
  },
  {
   "cell_type": "code",
   "execution_count": null,
   "id": "e2411f31",
   "metadata": {
    "_kg_hide-output": false,
    "papermill": {
     "duration": 33.005683,
     "end_time": "2021-12-25T05:53:01.071871",
     "exception": false,
     "start_time": "2021-12-25T05:52:28.066188",
     "status": "completed"
    },
    "tags": []
   },
   "outputs": [],
   "source": [
    "top5 = compare_models(sort='AUC',\n",
    "                      n_select = 5,\n",
    "                      exclude=['lightgbm','xgboost','dummy','svm','ridge','knn','dt','nb','qda']\n",
    "                     )"
   ]
  },
  {
   "cell_type": "markdown",
   "id": "cbfd3dcc",
   "metadata": {
    "papermill": {
     "duration": 0.184975,
     "end_time": "2021-12-25T05:53:01.441841",
     "exception": false,
     "start_time": "2021-12-25T05:53:01.256866",
     "status": "completed"
    },
    "tags": []
   },
   "source": [
    "## Creating Models\n",
    "\n",
    "> This function trains and evaluates the performance of a given estimator using cross validation. The output of this function is a score grid with CV scores by fold.\n",
    "\n",
    "Ref: https://pycaret.readthedocs.io/en/latest/api/classification.html"
   ]
  },
  {
   "cell_type": "code",
   "execution_count": null,
   "id": "fbaedc71",
   "metadata": {
    "papermill": {
     "duration": 22.708919,
     "end_time": "2021-12-25T05:53:24.336361",
     "exception": false,
     "start_time": "2021-12-25T05:53:01.627442",
     "status": "completed"
    },
    "tags": []
   },
   "outputs": [],
   "source": [
    "catboost = create_model('catboost')\n",
    "rf = create_model('rf')\n",
    "lr = create_model('lr')\n",
    "lda = create_model('lda')\n",
    "gbc = create_model('gbc')"
   ]
  },
  {
   "cell_type": "markdown",
   "id": "aaaa1b90",
   "metadata": {
    "papermill": {
     "duration": 0.187216,
     "end_time": "2021-12-25T05:53:24.711700",
     "exception": false,
     "start_time": "2021-12-25T05:53:24.524484",
     "status": "completed"
    },
    "tags": []
   },
   "source": [
    "## Interpreting Models"
   ]
  },
  {
   "cell_type": "code",
   "execution_count": null,
   "id": "75bbedf0",
   "metadata": {
    "papermill": {
     "duration": 3.432568,
     "end_time": "2021-12-25T05:53:28.332402",
     "exception": false,
     "start_time": "2021-12-25T05:53:24.899834",
     "status": "completed"
    },
    "tags": []
   },
   "outputs": [],
   "source": [
    "interpret_model(catboost)"
   ]
  },
  {
   "cell_type": "code",
   "execution_count": null,
   "id": "8bcfa39e",
   "metadata": {
    "papermill": {
     "duration": 1.653018,
     "end_time": "2021-12-25T05:53:30.177535",
     "exception": false,
     "start_time": "2021-12-25T05:53:28.524517",
     "status": "completed"
    },
    "tags": []
   },
   "outputs": [],
   "source": [
    "interpret_model(rf)"
   ]
  },
  {
   "cell_type": "markdown",
   "id": "1d29a29e",
   "metadata": {
    "papermill": {
     "duration": 0.191003,
     "end_time": "2021-12-25T05:53:30.562226",
     "exception": false,
     "start_time": "2021-12-25T05:53:30.371223",
     "status": "completed"
    },
    "tags": []
   },
   "source": [
    "<span style=\"color:Blue\"> **Observation:**\n",
    "* As expected, glucose is used as the most important feature.\n",
    "* SkinTickness and BloodPressure have the low importance."
   ]
  },
  {
   "cell_type": "markdown",
   "id": "921fb1fa",
   "metadata": {
    "papermill": {
     "duration": 0.191597,
     "end_time": "2021-12-25T05:53:30.945200",
     "exception": false,
     "start_time": "2021-12-25T05:53:30.753603",
     "status": "completed"
    },
    "tags": []
   },
   "source": [
    "Let's compare the feature importance of the above two models. A comparison was made with SHAP values, and the feature importance of each model is slightly different.\n",
    "The diversity of each model seems to be stable and improve performance while compensating for each other's weaknesses.\n",
    "\n",
    "If you are more interested in feature importance, please refer to the notebook below.\n",
    "\n",
    "[Notebook](https://www.kaggle.com/ohseokkim/interpreting-models-by-feature-importnace)"
   ]
  },
  {
   "cell_type": "markdown",
   "id": "e764ca1c",
   "metadata": {
    "papermill": {
     "duration": 0.192525,
     "end_time": "2021-12-25T05:53:31.330256",
     "exception": false,
     "start_time": "2021-12-25T05:53:31.137731",
     "status": "completed"
    },
    "tags": []
   },
   "source": [
    "# Tuning Hyperparameters\n",
    "\n",
    "> This function tunes the hyperparameters of a given estimator. The output of this function is a score grid with CV scores by fold of the best selected model based on optimize parameter."
   ]
  },
  {
   "cell_type": "code",
   "execution_count": null,
   "id": "e51447c4",
   "metadata": {
    "_kg_hide-output": true,
    "papermill": {
     "duration": 127.823724,
     "end_time": "2021-12-25T05:55:39.346135",
     "exception": false,
     "start_time": "2021-12-25T05:53:31.522411",
     "status": "completed"
    },
    "tags": []
   },
   "outputs": [],
   "source": [
    "tuned_catboost = tune_model(catboost, optimize = 'AUC')\n",
    "tuned_rf = tune_model(rf, optimize = 'AUC')\n",
    "tuned_lr = tune_model(lr, optimize = 'AUC')\n",
    "tuned_lda = tune_model(lda, optimize = 'AUC')\n",
    "tuned_gbc = tune_model(gbc, optimize = 'AUC')"
   ]
  },
  {
   "cell_type": "markdown",
   "id": "1996b36d",
   "metadata": {
    "papermill": {
     "duration": 0.192737,
     "end_time": "2021-12-25T05:55:39.731756",
     "exception": false,
     "start_time": "2021-12-25T05:55:39.539019",
     "status": "completed"
    },
    "tags": []
   },
   "source": [
    "\n",
    "Top 1, Top 2, Top 3 ,Top 4, and Top 5 models were tuned with different feature importance and decision boundary. Also, there is a big difference in feature importance from the catboost classifier."
   ]
  },
  {
   "cell_type": "markdown",
   "id": "01fb21de",
   "metadata": {
    "papermill": {
     "duration": 0.206611,
     "end_time": "2021-12-25T05:55:40.133733",
     "exception": false,
     "start_time": "2021-12-25T05:55:39.927122",
     "status": "completed"
    },
    "tags": []
   },
   "source": [
    "-----------------------------------------------------------------------------------------------------------------------------------------\n",
    "# Stacking\n",
    "\n",
    "![](https://miro.medium.com/max/1000/1*CoauXirckomVXxw2Id2w_Q.jpeg)\n",
    "\n",
    "Picture Credit: https://miro.medium.com\n",
    "\n"
   ]
  },
  {
   "cell_type": "code",
   "execution_count": null,
   "id": "ca39c7e4",
   "metadata": {
    "_kg_hide-output": false,
    "papermill": {
     "duration": 98.535132,
     "end_time": "2021-12-25T05:57:18.874530",
     "exception": false,
     "start_time": "2021-12-25T05:55:40.339398",
     "status": "completed"
    },
    "tags": []
   },
   "outputs": [],
   "source": [
    "stack_model = stack_models(estimator_list = top5, meta_model = top5[0],optimize = 'AUC')"
   ]
  },
  {
   "cell_type": "code",
   "execution_count": null,
   "id": "a186bf45",
   "metadata": {
    "papermill": {
     "duration": 10.079108,
     "end_time": "2021-12-25T05:57:29.149464",
     "exception": false,
     "start_time": "2021-12-25T05:57:19.070356",
     "status": "completed"
    },
    "tags": []
   },
   "outputs": [],
   "source": [
    "plt.figure(figsize=(8, 8))\n",
    "plot_model(stack_model, plot='boundary')"
   ]
  },
  {
   "cell_type": "markdown",
   "id": "0ac14016",
   "metadata": {
    "papermill": {
     "duration": 0.200739,
     "end_time": "2021-12-25T05:57:29.566413",
     "exception": false,
     "start_time": "2021-12-25T05:57:29.365674",
     "status": "completed"
    },
    "tags": []
   },
   "source": [
    "In the case of a stacking model, in some cases overfitting and in some cases underfitting.\n",
    "\n",
    "If you are interested in under/overfitting, please refer to the notebook below.\n",
    "\n",
    "[Notebook](https://www.kaggle.com/ohseokkim/overfitting-and-underfitting-eda)\n",
    "\n",
    "Let's compare the other model's boundary."
   ]
  },
  {
   "cell_type": "code",
   "execution_count": null,
   "id": "27fbd34e",
   "metadata": {
    "papermill": {
     "duration": 1.214065,
     "end_time": "2021-12-25T05:57:30.975404",
     "exception": false,
     "start_time": "2021-12-25T05:57:29.761339",
     "status": "completed"
    },
    "tags": []
   },
   "outputs": [],
   "source": [
    "plt.figure(figsize=(8, 8))\n",
    "plot_model(stack_model, plot = 'auc')"
   ]
  },
  {
   "cell_type": "code",
   "execution_count": null,
   "id": "d319cfa1",
   "metadata": {
    "papermill": {
     "duration": 0.436538,
     "end_time": "2021-12-25T05:57:31.615728",
     "exception": false,
     "start_time": "2021-12-25T05:57:31.179190",
     "status": "completed"
    },
    "tags": []
   },
   "outputs": [],
   "source": [
    "#prediction\n",
    "pred = stack_model.predict(X_test)\n",
    "pred_proba = stack_model.predict_proba(X_test)[:,1]\n",
    "#Accuracy\n",
    "confusion_stack = get_clf_eval(y_test,pred,pred_proba)"
   ]
  },
  {
   "cell_type": "code",
   "execution_count": null,
   "id": "c80a37f0",
   "metadata": {
    "papermill": {
     "duration": 0.45143,
     "end_time": "2021-12-25T05:57:32.264464",
     "exception": false,
     "start_time": "2021-12-25T05:57:31.813034",
     "status": "completed"
    },
    "tags": []
   },
   "outputs": [],
   "source": [
    "plt.figure(figsize=(8, 6))\n",
    "ax = sns.heatmap(confusion_stack, cmap = 'YlGnBu',annot = True, fmt='d')\n",
    "ax.set_title('Confusion Matrix (Stacking)')"
   ]
  },
  {
   "cell_type": "markdown",
   "id": "1d7bfbae",
   "metadata": {
    "papermill": {
     "duration": 0.198346,
     "end_time": "2021-12-25T05:57:32.661219",
     "exception": false,
     "start_time": "2021-12-25T05:57:32.462873",
     "status": "completed"
    },
    "tags": []
   },
   "source": [
    "Precision and recall have a trade-off relationship. The picture above seems to be well balanced because it has been studied well."
   ]
  },
  {
   "cell_type": "markdown",
   "id": "4b56291e",
   "metadata": {
    "papermill": {
     "duration": 0.203535,
     "end_time": "2021-12-25T05:57:33.064756",
     "exception": false,
     "start_time": "2021-12-25T05:57:32.861221",
     "status": "completed"
    },
    "tags": []
   },
   "source": [
    "---------------------------------------------------------------------------------------------------------------------------------------\n",
    "# Soft Voting\n",
    "\n",
    "![](https://miro.medium.com/max/806/1*bliKQZGPccS7ho9Zo6uC7A.jpeg)\n",
    "\n",
    "Picture Credit: https://miro.medium.com\n",
    "\n",
    "> This function trains a Soft Voting classifier for select models passed in the estimator_list param. The output of this function is a score grid with CV scores by fold.\n",
    "\n",
    "Ref: https://pycaret.readthedocs.io/en/latest/api/classification.html"
   ]
  },
  {
   "cell_type": "code",
   "execution_count": null,
   "id": "d133b4e9",
   "metadata": {
    "papermill": {
     "duration": 18.853184,
     "end_time": "2021-12-25T05:57:52.115461",
     "exception": false,
     "start_time": "2021-12-25T05:57:33.262277",
     "status": "completed"
    },
    "tags": []
   },
   "outputs": [],
   "source": [
    "blend_soft = blend_models(estimator_list = top5, optimize = 'AUC',method = 'soft')"
   ]
  },
  {
   "cell_type": "code",
   "execution_count": null,
   "id": "f14f66aa",
   "metadata": {
    "papermill": {
     "duration": 4.599072,
     "end_time": "2021-12-25T05:57:56.941702",
     "exception": false,
     "start_time": "2021-12-25T05:57:52.342630",
     "status": "completed"
    },
    "tags": []
   },
   "outputs": [],
   "source": [
    "plt.figure(figsize=(8, 8))\n",
    "plot_model(blend_soft, plot='boundary')"
   ]
  },
  {
   "cell_type": "markdown",
   "id": "4b84f630",
   "metadata": {
    "papermill": {
     "duration": 0.198595,
     "end_time": "2021-12-25T05:57:57.342535",
     "exception": false,
     "start_time": "2021-12-25T05:57:57.143940",
     "status": "completed"
    },
    "tags": []
   },
   "source": [
    "It looks like the model has been properly trained. "
   ]
  },
  {
   "cell_type": "code",
   "execution_count": null,
   "id": "7d405f8e",
   "metadata": {
    "papermill": {
     "duration": 1.216198,
     "end_time": "2021-12-25T05:57:58.760175",
     "exception": false,
     "start_time": "2021-12-25T05:57:57.543977",
     "status": "completed"
    },
    "tags": []
   },
   "outputs": [],
   "source": [
    "plt.figure(figsize=(8, 8))\n",
    "plot_model(blend_soft, plot = 'auc')"
   ]
  },
  {
   "cell_type": "code",
   "execution_count": null,
   "id": "47431da6",
   "metadata": {
    "papermill": {
     "duration": 0.443451,
     "end_time": "2021-12-25T05:57:59.412007",
     "exception": false,
     "start_time": "2021-12-25T05:57:58.968556",
     "status": "completed"
    },
    "tags": []
   },
   "outputs": [],
   "source": [
    "#prediction\n",
    "pred = blend_soft.predict(X_test)\n",
    "pred_proba = blend_soft.predict_proba(X_test)[:,1]\n",
    "#Accuracy\n",
    "confusion_soft = get_clf_eval(y_test,pred,pred_proba)"
   ]
  },
  {
   "cell_type": "code",
   "execution_count": null,
   "id": "059085f3",
   "metadata": {
    "papermill": {
     "duration": 0.478486,
     "end_time": "2021-12-25T05:58:00.092896",
     "exception": false,
     "start_time": "2021-12-25T05:57:59.614410",
     "status": "completed"
    },
    "tags": []
   },
   "outputs": [],
   "source": [
    "plt.figure(figsize=(8, 6))\n",
    "ax = sns.heatmap(confusion_soft, cmap = 'YlGnBu',annot = True, fmt='d')\n",
    "ax.set_title('Confusion Matrix (Soft Blending)')"
   ]
  },
  {
   "cell_type": "markdown",
   "id": "a634ad79",
   "metadata": {
    "papermill": {
     "duration": 0.229863,
     "end_time": "2021-12-25T05:58:00.525967",
     "exception": false,
     "start_time": "2021-12-25T05:58:00.296104",
     "status": "completed"
    },
    "tags": []
   },
   "source": [
    "The confusion matrix is ​​also well balanced and the results are good."
   ]
  },
  {
   "cell_type": "markdown",
   "id": "ba7997fc",
   "metadata": {
    "papermill": {
     "duration": 0.221653,
     "end_time": "2021-12-25T05:58:00.960976",
     "exception": false,
     "start_time": "2021-12-25T05:58:00.739323",
     "status": "completed"
    },
    "tags": []
   },
   "source": [
    "---------------------------------------------------------------------------------------------------------------------------------------\n",
    "# Hard Voting\n",
    "\n",
    "![](https://miro.medium.com/max/428/1*XnZwlg7Th3nga25sSlanJQ.jpeg)\n",
    "\n",
    "Picture Credit: https://vitalflux.com\n",
    "\n",
    "\n",
    "> This function trains a **Majority Rule classifier** for select models passed in the estimator_list param. The output of this function is a score grid with CV scores by fold.\n",
    "\n",
    "Ref: https://pycaret.readthedocs.io/en/latest/api/classification.html"
   ]
  },
  {
   "cell_type": "code",
   "execution_count": null,
   "id": "ed675ef7",
   "metadata": {
    "papermill": {
     "duration": 18.453749,
     "end_time": "2021-12-25T05:58:19.636444",
     "exception": false,
     "start_time": "2021-12-25T05:58:01.182695",
     "status": "completed"
    },
    "tags": []
   },
   "outputs": [],
   "source": [
    "blend_hard = blend_models(estimator_list = top5, optimize = 'AUC',method = 'hard')"
   ]
  },
  {
   "cell_type": "code",
   "execution_count": null,
   "id": "1b7424f2",
   "metadata": {
    "papermill": {
     "duration": 6.290182,
     "end_time": "2021-12-25T05:58:26.132081",
     "exception": false,
     "start_time": "2021-12-25T05:58:19.841899",
     "status": "completed"
    },
    "tags": []
   },
   "outputs": [],
   "source": [
    "plt.figure(figsize=(8, 8))\n",
    "plot_model(blend_hard, plot='boundary')"
   ]
  },
  {
   "cell_type": "markdown",
   "id": "7d143cc8",
   "metadata": {
    "papermill": {
     "duration": 0.203359,
     "end_time": "2021-12-25T05:58:26.541133",
     "exception": false,
     "start_time": "2021-12-25T05:58:26.337774",
     "status": "completed"
    },
    "tags": []
   },
   "source": [
    "It seems to have been well learned."
   ]
  },
  {
   "cell_type": "markdown",
   "id": "0a7b80b2",
   "metadata": {
    "papermill": {
     "duration": 0.206215,
     "end_time": "2021-12-25T05:58:26.951696",
     "exception": false,
     "start_time": "2021-12-25T05:58:26.745481",
     "status": "completed"
    },
    "tags": []
   },
   "source": [
    "# Predicting with the test dateset"
   ]
  },
  {
   "cell_type": "code",
   "execution_count": null,
   "id": "03d82068",
   "metadata": {
    "papermill": {
     "duration": 0.334922,
     "end_time": "2021-12-25T05:58:27.494411",
     "exception": false,
     "start_time": "2021-12-25T05:58:27.159489",
     "status": "completed"
    },
    "tags": []
   },
   "outputs": [],
   "source": [
    "#prediction\n",
    "pred = blend_hard.predict(X_test)\n",
    "#Accuracy\n",
    "confusion_hard = confusion_matrix( y_test, pred)\n",
    "accuracy = accuracy_score(y_test , pred)\n",
    "precision = precision_score(y_test , pred)\n",
    "recall = recall_score(y_test , pred)\n",
    "f1 = f1_score(y_test,pred) \n",
    "print('accuracy: {0:.4f}, precision: {1:.4f}, recall: {2:.4f},\\\n",
    "F1: {3:.4f}'.format(accuracy, precision, recall, f1))"
   ]
  },
  {
   "cell_type": "code",
   "execution_count": null,
   "id": "bbe46785",
   "metadata": {
    "papermill": {
     "duration": 0.466819,
     "end_time": "2021-12-25T05:58:28.165724",
     "exception": false,
     "start_time": "2021-12-25T05:58:27.698905",
     "status": "completed"
    },
    "tags": []
   },
   "outputs": [],
   "source": [
    "plt.figure(figsize=(8, 6))\n",
    "ax = sns.heatmap(confusion_hard, cmap = 'YlGnBu',annot = True, fmt='d')\n",
    "ax.set_title('Confusion Matrix (Hard Blending)')"
   ]
  },
  {
   "cell_type": "markdown",
   "id": "9ce4c148",
   "metadata": {
    "papermill": {
     "duration": 0.20689,
     "end_time": "2021-12-25T05:58:28.581319",
     "exception": false,
     "start_time": "2021-12-25T05:58:28.374429",
     "status": "completed"
    },
    "tags": []
   },
   "source": [
    "The result is not bad. However, it is worse than the soft blending result."
   ]
  },
  {
   "cell_type": "markdown",
   "id": "055f6eb9",
   "metadata": {
    "papermill": {
     "duration": 0.208378,
     "end_time": "2021-12-25T05:58:28.996442",
     "exception": false,
     "start_time": "2021-12-25T05:58:28.788064",
     "status": "completed"
    },
    "tags": []
   },
   "source": [
    "-----------------------------------------------\n",
    "# Calibrating the final model\n",
    "\n",
    "> This function calibrates the probability of a given estimator using isotonic or logistic regression.\n",
    "\n",
    "Ref: https://pycaret.readthedocs.io/en/latest/api/classification.html"
   ]
  },
  {
   "cell_type": "code",
   "execution_count": null,
   "id": "591c54ef",
   "metadata": {
    "papermill": {
     "duration": 85.072714,
     "end_time": "2021-12-25T05:59:54.276242",
     "exception": false,
     "start_time": "2021-12-25T05:58:29.203528",
     "status": "completed"
    },
    "tags": []
   },
   "outputs": [],
   "source": [
    "cali_model = calibrate_model(blend_soft)"
   ]
  },
  {
   "cell_type": "markdown",
   "id": "cf471d1c",
   "metadata": {
    "papermill": {
     "duration": 0.20907,
     "end_time": "2021-12-25T05:59:54.693809",
     "exception": false,
     "start_time": "2021-12-25T05:59:54.484739",
     "status": "completed"
    },
    "tags": []
   },
   "source": [
    "----------------------------------------------\n",
    "# Finalizing the last model\n",
    "\n",
    "> This function trains a given estimator on the entire dataset including the holdout set.\n",
    "\n",
    "Ref: https://pycaret.readthedocs.io/en/latest/api/classification.html"
   ]
  },
  {
   "cell_type": "code",
   "execution_count": null,
   "id": "80d62cb5",
   "metadata": {
    "papermill": {
     "duration": 93.166827,
     "end_time": "2021-12-25T06:01:28.070054",
     "exception": false,
     "start_time": "2021-12-25T05:59:54.903227",
     "status": "completed"
    },
    "tags": []
   },
   "outputs": [],
   "source": [
    "final_model = finalize_model(cali_model)"
   ]
  },
  {
   "cell_type": "code",
   "execution_count": null,
   "id": "48c36643",
   "metadata": {
    "papermill": {
     "duration": 393.909712,
     "end_time": "2021-12-25T06:08:02.194079",
     "exception": false,
     "start_time": "2021-12-25T06:01:28.284367",
     "status": "completed"
    },
    "tags": []
   },
   "outputs": [],
   "source": [
    "plt.figure(figsize=(8, 8))\n",
    "plot_model(final_model, plot='threshold')"
   ]
  },
  {
   "cell_type": "code",
   "execution_count": null,
   "id": "2bf26629",
   "metadata": {
    "papermill": {
     "duration": 13.631724,
     "end_time": "2021-12-25T06:08:16.040270",
     "exception": false,
     "start_time": "2021-12-25T06:08:02.408546",
     "status": "completed"
    },
    "tags": []
   },
   "outputs": [],
   "source": [
    "plt.figure(figsize=(8, 8))\n",
    "plot_model(final_model, plot='boundary')"
   ]
  },
  {
   "cell_type": "code",
   "execution_count": null,
   "id": "41418b76",
   "metadata": {
    "papermill": {
     "duration": 0.755824,
     "end_time": "2021-12-25T06:08:17.006765",
     "exception": false,
     "start_time": "2021-12-25T06:08:16.250941",
     "status": "completed"
    },
    "tags": []
   },
   "outputs": [],
   "source": [
    "#prediction\n",
    "pred = final_model.predict(X_test)\n",
    "#Accuracy\n",
    "final_model = confusion_matrix( y_test, pred)\n",
    "accuracy = accuracy_score(y_test , pred)\n",
    "precision = precision_score(y_test , pred)\n",
    "recall = recall_score(y_test , pred)\n",
    "f1 = f1_score(y_test,pred) \n",
    "print('accuracy: {0:.4f}, precision: {1:.4f}, recall: {2:.4f},\\\n",
    "F1: {3:.4f}'.format(accuracy, precision, recall, f1))"
   ]
  },
  {
   "cell_type": "code",
   "execution_count": null,
   "id": "8127858e",
   "metadata": {
    "papermill": {
     "duration": 0.44968,
     "end_time": "2021-12-25T06:08:17.668465",
     "exception": false,
     "start_time": "2021-12-25T06:08:17.218785",
     "status": "completed"
    },
    "tags": []
   },
   "outputs": [],
   "source": [
    "plt.figure(figsize=(8, 6))\n",
    "ax = sns.heatmap(confusion_hard, cmap = 'YlGnBu',annot = True, fmt='d')\n",
    "ax.set_title('Confusion Matrix (final_model)')"
   ]
  },
  {
   "cell_type": "markdown",
   "id": "c221c360",
   "metadata": {
    "papermill": {
     "duration": 0.222688,
     "end_time": "2021-12-25T06:08:18.108083",
     "exception": false,
     "start_time": "2021-12-25T06:08:17.885395",
     "status": "completed"
    },
    "tags": []
   },
   "source": [
    "<hr style=\"border: solid 3px blue;\">\n",
    "\n",
    "# Conclusion\n",
    "\n",
    "**After EDA and preprocessing, three ensamble models were run and the performance was verified with the validation dataset. Ensamble using soft and hard voting gave the best result in solving this problem, but different results may come out depending on preprocessing and selection of base models and hyperparameter settings.**"
   ]
  },
  {
   "cell_type": "code",
   "execution_count": null,
   "id": "9949d055-2d00-44b3-94ad-46af5e4e4b52",
   "metadata": {},
   "outputs": [],
   "source": []
  }
 ],
 "metadata": {
  "kernelspec": {
   "display_name": "Python 3 (ipykernel)",
   "language": "python",
   "name": "python3"
  },
  "language_info": {
   "codemirror_mode": {
    "name": "ipython",
    "version": 3
   },
   "file_extension": ".py",
   "mimetype": "text/x-python",
   "name": "python",
   "nbconvert_exporter": "python",
   "pygments_lexer": "ipython3",
   "version": "3.11.5"
  },
  "papermill": {
   "default_parameters": {},
   "duration": 1101.511368,
   "end_time": "2021-12-25T06:08:21.268636",
   "environment_variables": {},
   "exception": null,
   "input_path": "__notebook__.ipynb",
   "output_path": "__notebook__.ipynb",
   "parameters": {},
   "start_time": "2021-12-25T05:49:59.757268",
   "version": "2.3.3"
  },
  "widgets": {
   "application/vnd.jupyter.widget-state+json": {
    "state": {
     "01345fa8eccf4c20b9edc0af436080e3": {
      "model_module": "@jupyter-widgets/controls",
      "model_module_version": "1.5.0",
      "model_name": "ProgressStyleModel",
      "state": {
       "_model_module": "@jupyter-widgets/controls",
       "_model_module_version": "1.5.0",
       "_model_name": "ProgressStyleModel",
       "_view_count": null,
       "_view_module": "@jupyter-widgets/base",
       "_view_module_version": "1.2.0",
       "_view_name": "StyleView",
       "bar_color": null,
       "description_width": ""
      }
     },
     "074a54458d7b4e8e809a86c396e0dedf": {
      "model_module": "@jupyter-widgets/controls",
      "model_module_version": "1.5.0",
      "model_name": "ProgressStyleModel",
      "state": {
       "_model_module": "@jupyter-widgets/controls",
       "_model_module_version": "1.5.0",
       "_model_name": "ProgressStyleModel",
       "_view_count": null,
       "_view_module": "@jupyter-widgets/base",
       "_view_module_version": "1.2.0",
       "_view_name": "StyleView",
       "bar_color": null,
       "description_width": ""
      }
     },
     "094af9fdcb664d94b76613a20e973227": {
      "model_module": "@jupyter-widgets/base",
      "model_module_version": "1.2.0",
      "model_name": "LayoutModel",
      "state": {
       "_model_module": "@jupyter-widgets/base",
       "_model_module_version": "1.2.0",
       "_model_name": "LayoutModel",
       "_view_count": null,
       "_view_module": "@jupyter-widgets/base",
       "_view_module_version": "1.2.0",
       "_view_name": "LayoutView",
       "align_content": null,
       "align_items": null,
       "align_self": null,
       "border": null,
       "bottom": null,
       "display": null,
       "flex": null,
       "flex_flow": null,
       "grid_area": null,
       "grid_auto_columns": null,
       "grid_auto_flow": null,
       "grid_auto_rows": null,
       "grid_column": null,
       "grid_gap": null,
       "grid_row": null,
       "grid_template_areas": null,
       "grid_template_columns": null,
       "grid_template_rows": null,
       "height": null,
       "justify_content": null,
       "justify_items": null,
       "left": null,
       "margin": null,
       "max_height": null,
       "max_width": null,
       "min_height": null,
       "min_width": null,
       "object_fit": null,
       "object_position": null,
       "order": null,
       "overflow": null,
       "overflow_x": null,
       "overflow_y": null,
       "padding": null,
       "right": null,
       "top": null,
       "visibility": null,
       "width": null
      }
     },
     "09643d4e66254e899166a7697ff6fad3": {
      "model_module": "@jupyter-widgets/base",
      "model_module_version": "1.2.0",
      "model_name": "LayoutModel",
      "state": {
       "_model_module": "@jupyter-widgets/base",
       "_model_module_version": "1.2.0",
       "_model_name": "LayoutModel",
       "_view_count": null,
       "_view_module": "@jupyter-widgets/base",
       "_view_module_version": "1.2.0",
       "_view_name": "LayoutView",
       "align_content": null,
       "align_items": null,
       "align_self": null,
       "border": null,
       "bottom": null,
       "display": null,
       "flex": null,
       "flex_flow": null,
       "grid_area": null,
       "grid_auto_columns": null,
       "grid_auto_flow": null,
       "grid_auto_rows": null,
       "grid_column": null,
       "grid_gap": null,
       "grid_row": null,
       "grid_template_areas": null,
       "grid_template_columns": null,
       "grid_template_rows": null,
       "height": null,
       "justify_content": null,
       "justify_items": null,
       "left": null,
       "margin": null,
       "max_height": null,
       "max_width": null,
       "min_height": null,
       "min_width": null,
       "object_fit": null,
       "object_position": null,
       "order": null,
       "overflow": null,
       "overflow_x": null,
       "overflow_y": null,
       "padding": null,
       "right": null,
       "top": null,
       "visibility": null,
       "width": null
      }
     },
     "0b40cc9c7b8d4adeb8b235fd7c3f6781": {
      "model_module": "@jupyter-widgets/controls",
      "model_module_version": "1.5.0",
      "model_name": "IntProgressModel",
      "state": {
       "_dom_classes": [],
       "_model_module": "@jupyter-widgets/controls",
       "_model_module_version": "1.5.0",
       "_model_name": "IntProgressModel",
       "_view_count": null,
       "_view_module": "@jupyter-widgets/controls",
       "_view_module_version": "1.5.0",
       "_view_name": "ProgressView",
       "bar_style": "",
       "description": "Processing: ",
       "description_tooltip": null,
       "layout": "IPY_MODEL_e097f6b36c4e4606805a41e827cc1bf7",
       "max": 7,
       "min": 0,
       "orientation": "horizontal",
       "style": "IPY_MODEL_32e36d2d858944f291b897d6c118e9bd",
       "value": 7
      }
     },
     "0c20f548e00349e591d6035bce258340": {
      "model_module": "@jupyter-widgets/controls",
      "model_module_version": "1.5.0",
      "model_name": "ProgressStyleModel",
      "state": {
       "_model_module": "@jupyter-widgets/controls",
       "_model_module_version": "1.5.0",
       "_model_name": "ProgressStyleModel",
       "_view_count": null,
       "_view_module": "@jupyter-widgets/base",
       "_view_module_version": "1.2.0",
       "_view_name": "StyleView",
       "bar_color": null,
       "description_width": ""
      }
     },
     "0ff534b7a7004c4fb9b186be54b0aafc": {
      "model_module": "@jupyter-widgets/controls",
      "model_module_version": "1.5.0",
      "model_name": "ProgressStyleModel",
      "state": {
       "_model_module": "@jupyter-widgets/controls",
       "_model_module_version": "1.5.0",
       "_model_name": "ProgressStyleModel",
       "_view_count": null,
       "_view_module": "@jupyter-widgets/base",
       "_view_module_version": "1.2.0",
       "_view_name": "StyleView",
       "bar_color": null,
       "description_width": ""
      }
     },
     "1b1af838a6c642189b88b972bbf2cd8f": {
      "model_module": "@jupyter-widgets/controls",
      "model_module_version": "1.5.0",
      "model_name": "IntProgressModel",
      "state": {
       "_dom_classes": [],
       "_model_module": "@jupyter-widgets/controls",
       "_model_module_version": "1.5.0",
       "_model_name": "IntProgressModel",
       "_view_count": null,
       "_view_module": "@jupyter-widgets/controls",
       "_view_module_version": "1.5.0",
       "_view_name": "ProgressView",
       "bar_style": "",
       "description": "Processing: ",
       "description_tooltip": null,
       "layout": "IPY_MODEL_09643d4e66254e899166a7697ff6fad3",
       "max": 7,
       "min": 0,
       "orientation": "horizontal",
       "style": "IPY_MODEL_e1e9282e2eba4c65aeede8a54a06da78",
       "value": 7
      }
     },
     "1d0399ab011941158b5d4d51a5ea4161": {
      "model_module": "@jupyter-widgets/controls",
      "model_module_version": "1.5.0",
      "model_name": "ProgressStyleModel",
      "state": {
       "_model_module": "@jupyter-widgets/controls",
       "_model_module_version": "1.5.0",
       "_model_name": "ProgressStyleModel",
       "_view_count": null,
       "_view_module": "@jupyter-widgets/base",
       "_view_module_version": "1.2.0",
       "_view_name": "StyleView",
       "bar_color": null,
       "description_width": ""
      }
     },
     "22f36e10545e4069bf23bdead831aefe": {
      "model_module": "@jupyter-widgets/controls",
      "model_module_version": "1.5.0",
      "model_name": "IntProgressModel",
      "state": {
       "_dom_classes": [],
       "_model_module": "@jupyter-widgets/controls",
       "_model_module_version": "1.5.0",
       "_model_name": "IntProgressModel",
       "_view_count": null,
       "_view_module": "@jupyter-widgets/controls",
       "_view_module_version": "1.5.0",
       "_view_name": "ProgressView",
       "bar_style": "",
       "description": "Processing: ",
       "description_tooltip": null,
       "layout": "IPY_MODEL_fcd4396a7c4e446ba5291074062d1375",
       "max": 4,
       "min": 0,
       "orientation": "horizontal",
       "style": "IPY_MODEL_0c20f548e00349e591d6035bce258340",
       "value": 4
      }
     },
     "2653bf7e8c3e44b188498b5d5004e756": {
      "model_module": "@jupyter-widgets/base",
      "model_module_version": "1.2.0",
      "model_name": "LayoutModel",
      "state": {
       "_model_module": "@jupyter-widgets/base",
       "_model_module_version": "1.2.0",
       "_model_name": "LayoutModel",
       "_view_count": null,
       "_view_module": "@jupyter-widgets/base",
       "_view_module_version": "1.2.0",
       "_view_name": "LayoutView",
       "align_content": null,
       "align_items": null,
       "align_self": null,
       "border": null,
       "bottom": null,
       "display": null,
       "flex": null,
       "flex_flow": null,
       "grid_area": null,
       "grid_auto_columns": null,
       "grid_auto_flow": null,
       "grid_auto_rows": null,
       "grid_column": null,
       "grid_gap": null,
       "grid_row": null,
       "grid_template_areas": null,
       "grid_template_columns": null,
       "grid_template_rows": null,
       "height": null,
       "justify_content": null,
       "justify_items": null,
       "left": null,
       "margin": null,
       "max_height": null,
       "max_width": null,
       "min_height": null,
       "min_width": null,
       "object_fit": null,
       "object_position": null,
       "order": null,
       "overflow": null,
       "overflow_x": null,
       "overflow_y": null,
       "padding": null,
       "right": null,
       "top": null,
       "visibility": null,
       "width": null
      }
     },
     "2ba572743c6744f79ba779e212cf76ac": {
      "model_module": "@jupyter-widgets/controls",
      "model_module_version": "1.5.0",
      "model_name": "IntProgressModel",
      "state": {
       "_dom_classes": [],
       "_model_module": "@jupyter-widgets/controls",
       "_model_module_version": "1.5.0",
       "_model_name": "IntProgressModel",
       "_view_count": null,
       "_view_module": "@jupyter-widgets/controls",
       "_view_module_version": "1.5.0",
       "_view_name": "ProgressView",
       "bar_style": "",
       "description": "Processing: ",
       "description_tooltip": null,
       "layout": "IPY_MODEL_4114c78f2e064be4a8ad0ebad5259b2a",
       "max": 4,
       "min": 0,
       "orientation": "horizontal",
       "style": "IPY_MODEL_50e66d63c4da47c29329d7b0bfe6058d",
       "value": 4
      }
     },
     "2edc9b3cf09b4ab79bdbdc2cf7878597": {
      "model_module": "@jupyter-widgets/controls",
      "model_module_version": "1.5.0",
      "model_name": "ProgressStyleModel",
      "state": {
       "_model_module": "@jupyter-widgets/controls",
       "_model_module_version": "1.5.0",
       "_model_name": "ProgressStyleModel",
       "_view_count": null,
       "_view_module": "@jupyter-widgets/base",
       "_view_module_version": "1.2.0",
       "_view_name": "StyleView",
       "bar_color": null,
       "description_width": ""
      }
     },
     "2ff45ff01e4d4a6298e994c996783dd4": {
      "model_module": "@jupyter-widgets/controls",
      "model_module_version": "1.5.0",
      "model_name": "IntProgressModel",
      "state": {
       "_dom_classes": [],
       "_model_module": "@jupyter-widgets/controls",
       "_model_module_version": "1.5.0",
       "_model_name": "IntProgressModel",
       "_view_count": null,
       "_view_module": "@jupyter-widgets/controls",
       "_view_module_version": "1.5.0",
       "_view_name": "ProgressView",
       "bar_style": "",
       "description": "Processing: ",
       "description_tooltip": null,
       "layout": "IPY_MODEL_7473d20b940b43f4a6e24299afa2b7a4",
       "max": 6,
       "min": 0,
       "orientation": "horizontal",
       "style": "IPY_MODEL_f6890dd3bd8f4076b6d205c87f547263",
       "value": 6
      }
     },
     "2ff7cae26e614a659cb104edaba0ecbe": {
      "model_module": "@jupyter-widgets/controls",
      "model_module_version": "1.5.0",
      "model_name": "ProgressStyleModel",
      "state": {
       "_model_module": "@jupyter-widgets/controls",
       "_model_module_version": "1.5.0",
       "_model_name": "ProgressStyleModel",
       "_view_count": null,
       "_view_module": "@jupyter-widgets/base",
       "_view_module_version": "1.2.0",
       "_view_name": "StyleView",
       "bar_color": null,
       "description_width": ""
      }
     },
     "30b9b69903b94895836f128e3c46c563": {
      "model_module": "@jupyter-widgets/controls",
      "model_module_version": "1.5.0",
      "model_name": "ProgressStyleModel",
      "state": {
       "_model_module": "@jupyter-widgets/controls",
       "_model_module_version": "1.5.0",
       "_model_name": "ProgressStyleModel",
       "_view_count": null,
       "_view_module": "@jupyter-widgets/base",
       "_view_module_version": "1.2.0",
       "_view_name": "StyleView",
       "bar_color": null,
       "description_width": ""
      }
     },
     "315297738eed4832a03bd96cfa219098": {
      "model_module": "@jupyter-widgets/controls",
      "model_module_version": "1.5.0",
      "model_name": "IntProgressModel",
      "state": {
       "_dom_classes": [],
       "_model_module": "@jupyter-widgets/controls",
       "_model_module_version": "1.5.0",
       "_model_name": "IntProgressModel",
       "_view_count": null,
       "_view_module": "@jupyter-widgets/controls",
       "_view_module_version": "1.5.0",
       "_view_name": "ProgressView",
       "bar_style": "",
       "description": "Processing: ",
       "description_tooltip": null,
       "layout": "IPY_MODEL_4aff784e27d74bec8f69618b9857328e",
       "max": 3,
       "min": 0,
       "orientation": "horizontal",
       "style": "IPY_MODEL_0ff534b7a7004c4fb9b186be54b0aafc",
       "value": 3
      }
     },
     "32e36d2d858944f291b897d6c118e9bd": {
      "model_module": "@jupyter-widgets/controls",
      "model_module_version": "1.5.0",
      "model_name": "ProgressStyleModel",
      "state": {
       "_model_module": "@jupyter-widgets/controls",
       "_model_module_version": "1.5.0",
       "_model_name": "ProgressStyleModel",
       "_view_count": null,
       "_view_module": "@jupyter-widgets/base",
       "_view_module_version": "1.2.0",
       "_view_name": "StyleView",
       "bar_color": null,
       "description_width": ""
      }
     },
     "32e9743ac8ed43b084e038d1591cbf4e": {
      "model_module": "@jupyter-widgets/controls",
      "model_module_version": "1.5.0",
      "model_name": "IntProgressModel",
      "state": {
       "_dom_classes": [],
       "_model_module": "@jupyter-widgets/controls",
       "_model_module_version": "1.5.0",
       "_model_name": "IntProgressModel",
       "_view_count": null,
       "_view_module": "@jupyter-widgets/controls",
       "_view_module_version": "1.5.0",
       "_view_name": "ProgressView",
       "bar_style": "",
       "description": "Processing: ",
       "description_tooltip": null,
       "layout": "IPY_MODEL_9ab8673f20a54cdd9002b6bc34414ec4",
       "max": 4,
       "min": 0,
       "orientation": "horizontal",
       "style": "IPY_MODEL_34f3628e43364b03b0b3e923555ab516",
       "value": 4
      }
     },
     "344218923dae4e5b8cb1adc8cbc3263c": {
      "model_module": "@jupyter-widgets/controls",
      "model_module_version": "1.5.0",
      "model_name": "IntProgressModel",
      "state": {
       "_dom_classes": [],
       "_model_module": "@jupyter-widgets/controls",
       "_model_module_version": "1.5.0",
       "_model_name": "IntProgressModel",
       "_view_count": null,
       "_view_module": "@jupyter-widgets/controls",
       "_view_module_version": "1.5.0",
       "_view_name": "ProgressView",
       "bar_style": "",
       "description": "Processing: ",
       "description_tooltip": null,
       "layout": "IPY_MODEL_855d6239d7d04a16ab617a767f7736a4",
       "max": 5,
       "min": 0,
       "orientation": "horizontal",
       "style": "IPY_MODEL_a4e3184137ea4b8baa1e5d3a72d0fb7b",
       "value": 5
      }
     },
     "34f3628e43364b03b0b3e923555ab516": {
      "model_module": "@jupyter-widgets/controls",
      "model_module_version": "1.5.0",
      "model_name": "ProgressStyleModel",
      "state": {
       "_model_module": "@jupyter-widgets/controls",
       "_model_module_version": "1.5.0",
       "_model_name": "ProgressStyleModel",
       "_view_count": null,
       "_view_module": "@jupyter-widgets/base",
       "_view_module_version": "1.2.0",
       "_view_name": "StyleView",
       "bar_color": null,
       "description_width": ""
      }
     },
     "3c8adb53222d40bd816c032f35bdbda1": {
      "model_module": "@jupyter-widgets/base",
      "model_module_version": "1.2.0",
      "model_name": "LayoutModel",
      "state": {
       "_model_module": "@jupyter-widgets/base",
       "_model_module_version": "1.2.0",
       "_model_name": "LayoutModel",
       "_view_count": null,
       "_view_module": "@jupyter-widgets/base",
       "_view_module_version": "1.2.0",
       "_view_name": "LayoutView",
       "align_content": null,
       "align_items": null,
       "align_self": null,
       "border": null,
       "bottom": null,
       "display": null,
       "flex": null,
       "flex_flow": null,
       "grid_area": null,
       "grid_auto_columns": null,
       "grid_auto_flow": null,
       "grid_auto_rows": null,
       "grid_column": null,
       "grid_gap": null,
       "grid_row": null,
       "grid_template_areas": null,
       "grid_template_columns": null,
       "grid_template_rows": null,
       "height": null,
       "justify_content": null,
       "justify_items": null,
       "left": null,
       "margin": null,
       "max_height": null,
       "max_width": null,
       "min_height": null,
       "min_width": null,
       "object_fit": null,
       "object_position": null,
       "order": null,
       "overflow": null,
       "overflow_x": null,
       "overflow_y": null,
       "padding": null,
       "right": null,
       "top": null,
       "visibility": null,
       "width": null
      }
     },
     "3d41e0f46b3241ad822713231249420e": {
      "model_module": "@jupyter-widgets/controls",
      "model_module_version": "1.5.0",
      "model_name": "ProgressStyleModel",
      "state": {
       "_model_module": "@jupyter-widgets/controls",
       "_model_module_version": "1.5.0",
       "_model_name": "ProgressStyleModel",
       "_view_count": null,
       "_view_module": "@jupyter-widgets/base",
       "_view_module_version": "1.2.0",
       "_view_name": "StyleView",
       "bar_color": null,
       "description_width": ""
      }
     },
     "3ea7f0dbc72d4a98bfad3727e0ed481c": {
      "model_module": "@jupyter-widgets/controls",
      "model_module_version": "1.5.0",
      "model_name": "IntProgressModel",
      "state": {
       "_dom_classes": [],
       "_model_module": "@jupyter-widgets/controls",
       "_model_module_version": "1.5.0",
       "_model_name": "IntProgressModel",
       "_view_count": null,
       "_view_module": "@jupyter-widgets/controls",
       "_view_module_version": "1.5.0",
       "_view_name": "ProgressView",
       "bar_style": "",
       "description": "Processing: ",
       "description_tooltip": null,
       "layout": "IPY_MODEL_094af9fdcb664d94b76613a20e973227",
       "max": 39,
       "min": 0,
       "orientation": "horizontal",
       "style": "IPY_MODEL_ca96e679423e4a878d187fa7648d4b17",
       "value": 39
      }
     },
     "4114c78f2e064be4a8ad0ebad5259b2a": {
      "model_module": "@jupyter-widgets/base",
      "model_module_version": "1.2.0",
      "model_name": "LayoutModel",
      "state": {
       "_model_module": "@jupyter-widgets/base",
       "_model_module_version": "1.2.0",
       "_model_name": "LayoutModel",
       "_view_count": null,
       "_view_module": "@jupyter-widgets/base",
       "_view_module_version": "1.2.0",
       "_view_name": "LayoutView",
       "align_content": null,
       "align_items": null,
       "align_self": null,
       "border": null,
       "bottom": null,
       "display": null,
       "flex": null,
       "flex_flow": null,
       "grid_area": null,
       "grid_auto_columns": null,
       "grid_auto_flow": null,
       "grid_auto_rows": null,
       "grid_column": null,
       "grid_gap": null,
       "grid_row": null,
       "grid_template_areas": null,
       "grid_template_columns": null,
       "grid_template_rows": null,
       "height": null,
       "justify_content": null,
       "justify_items": null,
       "left": null,
       "margin": null,
       "max_height": null,
       "max_width": null,
       "min_height": null,
       "min_width": null,
       "object_fit": null,
       "object_position": null,
       "order": null,
       "overflow": null,
       "overflow_x": null,
       "overflow_y": null,
       "padding": null,
       "right": null,
       "top": null,
       "visibility": null,
       "width": null
      }
     },
     "47a1c6de20be4a2e8c94419ef376b2f5": {
      "model_module": "@jupyter-widgets/controls",
      "model_module_version": "1.5.0",
      "model_name": "IntProgressModel",
      "state": {
       "_dom_classes": [],
       "_model_module": "@jupyter-widgets/controls",
       "_model_module_version": "1.5.0",
       "_model_name": "IntProgressModel",
       "_view_count": null,
       "_view_module": "@jupyter-widgets/controls",
       "_view_module_version": "1.5.0",
       "_view_name": "ProgressView",
       "bar_style": "",
       "description": "Processing: ",
       "description_tooltip": null,
       "layout": "IPY_MODEL_6b69576acf5342e287b0a3de7f0b7836",
       "max": 5,
       "min": 0,
       "orientation": "horizontal",
       "style": "IPY_MODEL_a79705d51a2042c3b8efd66171393363",
       "value": 5
      }
     },
     "4aff784e27d74bec8f69618b9857328e": {
      "model_module": "@jupyter-widgets/base",
      "model_module_version": "1.2.0",
      "model_name": "LayoutModel",
      "state": {
       "_model_module": "@jupyter-widgets/base",
       "_model_module_version": "1.2.0",
       "_model_name": "LayoutModel",
       "_view_count": null,
       "_view_module": "@jupyter-widgets/base",
       "_view_module_version": "1.2.0",
       "_view_name": "LayoutView",
       "align_content": null,
       "align_items": null,
       "align_self": null,
       "border": null,
       "bottom": null,
       "display": null,
       "flex": null,
       "flex_flow": null,
       "grid_area": null,
       "grid_auto_columns": null,
       "grid_auto_flow": null,
       "grid_auto_rows": null,
       "grid_column": null,
       "grid_gap": null,
       "grid_row": null,
       "grid_template_areas": null,
       "grid_template_columns": null,
       "grid_template_rows": null,
       "height": null,
       "justify_content": null,
       "justify_items": null,
       "left": null,
       "margin": null,
       "max_height": null,
       "max_width": null,
       "min_height": null,
       "min_width": null,
       "object_fit": null,
       "object_position": null,
       "order": null,
       "overflow": null,
       "overflow_x": null,
       "overflow_y": null,
       "padding": null,
       "right": null,
       "top": null,
       "visibility": null,
       "width": null
      }
     },
     "50e66d63c4da47c29329d7b0bfe6058d": {
      "model_module": "@jupyter-widgets/controls",
      "model_module_version": "1.5.0",
      "model_name": "ProgressStyleModel",
      "state": {
       "_model_module": "@jupyter-widgets/controls",
       "_model_module_version": "1.5.0",
       "_model_name": "ProgressStyleModel",
       "_view_count": null,
       "_view_module": "@jupyter-widgets/base",
       "_view_module_version": "1.2.0",
       "_view_name": "StyleView",
       "bar_color": null,
       "description_width": ""
      }
     },
     "534d7d4c748c47ea8f8589909661b49a": {
      "model_module": "@jupyter-widgets/base",
      "model_module_version": "1.2.0",
      "model_name": "LayoutModel",
      "state": {
       "_model_module": "@jupyter-widgets/base",
       "_model_module_version": "1.2.0",
       "_model_name": "LayoutModel",
       "_view_count": null,
       "_view_module": "@jupyter-widgets/base",
       "_view_module_version": "1.2.0",
       "_view_name": "LayoutView",
       "align_content": null,
       "align_items": null,
       "align_self": null,
       "border": null,
       "bottom": null,
       "display": null,
       "flex": null,
       "flex_flow": null,
       "grid_area": null,
       "grid_auto_columns": null,
       "grid_auto_flow": null,
       "grid_auto_rows": null,
       "grid_column": null,
       "grid_gap": null,
       "grid_row": null,
       "grid_template_areas": null,
       "grid_template_columns": null,
       "grid_template_rows": null,
       "height": null,
       "justify_content": null,
       "justify_items": null,
       "left": null,
       "margin": null,
       "max_height": null,
       "max_width": null,
       "min_height": null,
       "min_width": null,
       "object_fit": null,
       "object_position": null,
       "order": null,
       "overflow": null,
       "overflow_x": null,
       "overflow_y": null,
       "padding": null,
       "right": null,
       "top": null,
       "visibility": null,
       "width": null
      }
     },
     "5452a9af54974634a22bc614752fcd30": {
      "model_module": "@jupyter-widgets/base",
      "model_module_version": "1.2.0",
      "model_name": "LayoutModel",
      "state": {
       "_model_module": "@jupyter-widgets/base",
       "_model_module_version": "1.2.0",
       "_model_name": "LayoutModel",
       "_view_count": null,
       "_view_module": "@jupyter-widgets/base",
       "_view_module_version": "1.2.0",
       "_view_name": "LayoutView",
       "align_content": null,
       "align_items": null,
       "align_self": null,
       "border": null,
       "bottom": null,
       "display": null,
       "flex": null,
       "flex_flow": null,
       "grid_area": null,
       "grid_auto_columns": null,
       "grid_auto_flow": null,
       "grid_auto_rows": null,
       "grid_column": null,
       "grid_gap": null,
       "grid_row": null,
       "grid_template_areas": null,
       "grid_template_columns": null,
       "grid_template_rows": null,
       "height": null,
       "justify_content": null,
       "justify_items": null,
       "left": null,
       "margin": null,
       "max_height": null,
       "max_width": null,
       "min_height": null,
       "min_width": null,
       "object_fit": null,
       "object_position": null,
       "order": null,
       "overflow": null,
       "overflow_x": null,
       "overflow_y": null,
       "padding": null,
       "right": null,
       "top": null,
       "visibility": null,
       "width": null
      }
     },
     "58da412eaaa644998103b024bec11441": {
      "model_module": "@jupyter-widgets/controls",
      "model_module_version": "1.5.0",
      "model_name": "IntProgressModel",
      "state": {
       "_dom_classes": [],
       "_model_module": "@jupyter-widgets/controls",
       "_model_module_version": "1.5.0",
       "_model_name": "IntProgressModel",
       "_view_count": null,
       "_view_module": "@jupyter-widgets/controls",
       "_view_module_version": "1.5.0",
       "_view_name": "ProgressView",
       "bar_style": "",
       "description": "Processing: ",
       "description_tooltip": null,
       "layout": "IPY_MODEL_3c8adb53222d40bd816c032f35bdbda1",
       "max": 4,
       "min": 0,
       "orientation": "horizontal",
       "style": "IPY_MODEL_3d41e0f46b3241ad822713231249420e",
       "value": 4
      }
     },
     "5912e1887d26431993d0b517a7ae602c": {
      "model_module": "@jupyter-widgets/controls",
      "model_module_version": "1.5.0",
      "model_name": "IntProgressModel",
      "state": {
       "_dom_classes": [],
       "_model_module": "@jupyter-widgets/controls",
       "_model_module_version": "1.5.0",
       "_model_name": "IntProgressModel",
       "_view_count": null,
       "_view_module": "@jupyter-widgets/controls",
       "_view_module_version": "1.5.0",
       "_view_name": "ProgressView",
       "bar_style": "",
       "description": "Processing: ",
       "description_tooltip": null,
       "layout": "IPY_MODEL_f5b023aa1bca4667aeb177bb727b05a1",
       "max": 4,
       "min": 0,
       "orientation": "horizontal",
       "style": "IPY_MODEL_01345fa8eccf4c20b9edc0af436080e3",
       "value": 4
      }
     },
     "5cf2eaaa5a3346549ee2a062de5fda9a": {
      "model_module": "@jupyter-widgets/controls",
      "model_module_version": "1.5.0",
      "model_name": "ProgressStyleModel",
      "state": {
       "_model_module": "@jupyter-widgets/controls",
       "_model_module_version": "1.5.0",
       "_model_name": "ProgressStyleModel",
       "_view_count": null,
       "_view_module": "@jupyter-widgets/base",
       "_view_module_version": "1.2.0",
       "_view_name": "StyleView",
       "bar_color": null,
       "description_width": ""
      }
     },
     "62a77cc53d884686b10ccbacd9f70eab": {
      "model_module": "@jupyter-widgets/controls",
      "model_module_version": "1.5.0",
      "model_name": "IntProgressModel",
      "state": {
       "_dom_classes": [],
       "_model_module": "@jupyter-widgets/controls",
       "_model_module_version": "1.5.0",
       "_model_name": "IntProgressModel",
       "_view_count": null,
       "_view_module": "@jupyter-widgets/controls",
       "_view_module_version": "1.5.0",
       "_view_name": "ProgressView",
       "bar_style": "",
       "description": "Processing: ",
       "description_tooltip": null,
       "layout": "IPY_MODEL_534d7d4c748c47ea8f8589909661b49a",
       "max": 5,
       "min": 0,
       "orientation": "horizontal",
       "style": "IPY_MODEL_b01e8d69e6104ba1b672255ec898ba96",
       "value": 5
      }
     },
     "6958630af594429fb5b13fc85fc33f1f": {
      "model_module": "@jupyter-widgets/controls",
      "model_module_version": "1.5.0",
      "model_name": "ProgressStyleModel",
      "state": {
       "_model_module": "@jupyter-widgets/controls",
       "_model_module_version": "1.5.0",
       "_model_name": "ProgressStyleModel",
       "_view_count": null,
       "_view_module": "@jupyter-widgets/base",
       "_view_module_version": "1.2.0",
       "_view_name": "StyleView",
       "bar_color": null,
       "description_width": ""
      }
     },
     "6b69576acf5342e287b0a3de7f0b7836": {
      "model_module": "@jupyter-widgets/base",
      "model_module_version": "1.2.0",
      "model_name": "LayoutModel",
      "state": {
       "_model_module": "@jupyter-widgets/base",
       "_model_module_version": "1.2.0",
       "_model_name": "LayoutModel",
       "_view_count": null,
       "_view_module": "@jupyter-widgets/base",
       "_view_module_version": "1.2.0",
       "_view_name": "LayoutView",
       "align_content": null,
       "align_items": null,
       "align_self": null,
       "border": null,
       "bottom": null,
       "display": null,
       "flex": null,
       "flex_flow": null,
       "grid_area": null,
       "grid_auto_columns": null,
       "grid_auto_flow": null,
       "grid_auto_rows": null,
       "grid_column": null,
       "grid_gap": null,
       "grid_row": null,
       "grid_template_areas": null,
       "grid_template_columns": null,
       "grid_template_rows": null,
       "height": null,
       "justify_content": null,
       "justify_items": null,
       "left": null,
       "margin": null,
       "max_height": null,
       "max_width": null,
       "min_height": null,
       "min_width": null,
       "object_fit": null,
       "object_position": null,
       "order": null,
       "overflow": null,
       "overflow_x": null,
       "overflow_y": null,
       "padding": null,
       "right": null,
       "top": null,
       "visibility": null,
       "width": null
      }
     },
     "715966d4e975470087a491d8b5325774": {
      "model_module": "@jupyter-widgets/controls",
      "model_module_version": "1.5.0",
      "model_name": "ProgressStyleModel",
      "state": {
       "_model_module": "@jupyter-widgets/controls",
       "_model_module_version": "1.5.0",
       "_model_name": "ProgressStyleModel",
       "_view_count": null,
       "_view_module": "@jupyter-widgets/base",
       "_view_module_version": "1.2.0",
       "_view_name": "StyleView",
       "bar_color": null,
       "description_width": ""
      }
     },
     "7473d20b940b43f4a6e24299afa2b7a4": {
      "model_module": "@jupyter-widgets/base",
      "model_module_version": "1.2.0",
      "model_name": "LayoutModel",
      "state": {
       "_model_module": "@jupyter-widgets/base",
       "_model_module_version": "1.2.0",
       "_model_name": "LayoutModel",
       "_view_count": null,
       "_view_module": "@jupyter-widgets/base",
       "_view_module_version": "1.2.0",
       "_view_name": "LayoutView",
       "align_content": null,
       "align_items": null,
       "align_self": null,
       "border": null,
       "bottom": null,
       "display": null,
       "flex": null,
       "flex_flow": null,
       "grid_area": null,
       "grid_auto_columns": null,
       "grid_auto_flow": null,
       "grid_auto_rows": null,
       "grid_column": null,
       "grid_gap": null,
       "grid_row": null,
       "grid_template_areas": null,
       "grid_template_columns": null,
       "grid_template_rows": null,
       "height": null,
       "justify_content": null,
       "justify_items": null,
       "left": null,
       "margin": null,
       "max_height": null,
       "max_width": null,
       "min_height": null,
       "min_width": null,
       "object_fit": null,
       "object_position": null,
       "order": null,
       "overflow": null,
       "overflow_x": null,
       "overflow_y": null,
       "padding": null,
       "right": null,
       "top": null,
       "visibility": null,
       "width": null
      }
     },
     "7922d4fa0b984f6cbca8d50fac2c4bc9": {
      "model_module": "@jupyter-widgets/base",
      "model_module_version": "1.2.0",
      "model_name": "LayoutModel",
      "state": {
       "_model_module": "@jupyter-widgets/base",
       "_model_module_version": "1.2.0",
       "_model_name": "LayoutModel",
       "_view_count": null,
       "_view_module": "@jupyter-widgets/base",
       "_view_module_version": "1.2.0",
       "_view_name": "LayoutView",
       "align_content": null,
       "align_items": null,
       "align_self": null,
       "border": null,
       "bottom": null,
       "display": null,
       "flex": null,
       "flex_flow": null,
       "grid_area": null,
       "grid_auto_columns": null,
       "grid_auto_flow": null,
       "grid_auto_rows": null,
       "grid_column": null,
       "grid_gap": null,
       "grid_row": null,
       "grid_template_areas": null,
       "grid_template_columns": null,
       "grid_template_rows": null,
       "height": null,
       "justify_content": null,
       "justify_items": null,
       "left": null,
       "margin": null,
       "max_height": null,
       "max_width": null,
       "min_height": null,
       "min_width": null,
       "object_fit": null,
       "object_position": null,
       "order": null,
       "overflow": null,
       "overflow_x": null,
       "overflow_y": null,
       "padding": null,
       "right": null,
       "top": null,
       "visibility": null,
       "width": null
      }
     },
     "8030387d93f94223be39adad471a6cec": {
      "model_module": "@jupyter-widgets/controls",
      "model_module_version": "1.5.0",
      "model_name": "IntProgressModel",
      "state": {
       "_dom_classes": [],
       "_model_module": "@jupyter-widgets/controls",
       "_model_module_version": "1.5.0",
       "_model_name": "IntProgressModel",
       "_view_count": null,
       "_view_module": "@jupyter-widgets/controls",
       "_view_module_version": "1.5.0",
       "_view_name": "ProgressView",
       "bar_style": "",
       "description": "Processing: ",
       "description_tooltip": null,
       "layout": "IPY_MODEL_98d42cf335cf405b88c0ad39508baed2",
       "max": 7,
       "min": 0,
       "orientation": "horizontal",
       "style": "IPY_MODEL_5cf2eaaa5a3346549ee2a062de5fda9a",
       "value": 7
      }
     },
     "855d6239d7d04a16ab617a767f7736a4": {
      "model_module": "@jupyter-widgets/base",
      "model_module_version": "1.2.0",
      "model_name": "LayoutModel",
      "state": {
       "_model_module": "@jupyter-widgets/base",
       "_model_module_version": "1.2.0",
       "_model_name": "LayoutModel",
       "_view_count": null,
       "_view_module": "@jupyter-widgets/base",
       "_view_module_version": "1.2.0",
       "_view_name": "LayoutView",
       "align_content": null,
       "align_items": null,
       "align_self": null,
       "border": null,
       "bottom": null,
       "display": null,
       "flex": null,
       "flex_flow": null,
       "grid_area": null,
       "grid_auto_columns": null,
       "grid_auto_flow": null,
       "grid_auto_rows": null,
       "grid_column": null,
       "grid_gap": null,
       "grid_row": null,
       "grid_template_areas": null,
       "grid_template_columns": null,
       "grid_template_rows": null,
       "height": null,
       "justify_content": null,
       "justify_items": null,
       "left": null,
       "margin": null,
       "max_height": null,
       "max_width": null,
       "min_height": null,
       "min_width": null,
       "object_fit": null,
       "object_position": null,
       "order": null,
       "overflow": null,
       "overflow_x": null,
       "overflow_y": null,
       "padding": null,
       "right": null,
       "top": null,
       "visibility": null,
       "width": null
      }
     },
     "882e82059bc84f7e938a382b2074a950": {
      "model_module": "@jupyter-widgets/base",
      "model_module_version": "1.2.0",
      "model_name": "LayoutModel",
      "state": {
       "_model_module": "@jupyter-widgets/base",
       "_model_module_version": "1.2.0",
       "_model_name": "LayoutModel",
       "_view_count": null,
       "_view_module": "@jupyter-widgets/base",
       "_view_module_version": "1.2.0",
       "_view_name": "LayoutView",
       "align_content": null,
       "align_items": null,
       "align_self": null,
       "border": null,
       "bottom": null,
       "display": null,
       "flex": null,
       "flex_flow": null,
       "grid_area": null,
       "grid_auto_columns": null,
       "grid_auto_flow": null,
       "grid_auto_rows": null,
       "grid_column": null,
       "grid_gap": null,
       "grid_row": null,
       "grid_template_areas": null,
       "grid_template_columns": null,
       "grid_template_rows": null,
       "height": null,
       "justify_content": null,
       "justify_items": null,
       "left": null,
       "margin": null,
       "max_height": null,
       "max_width": null,
       "min_height": null,
       "min_width": null,
       "object_fit": null,
       "object_position": null,
       "order": null,
       "overflow": null,
       "overflow_x": null,
       "overflow_y": null,
       "padding": null,
       "right": null,
       "top": null,
       "visibility": null,
       "width": null
      }
     },
     "8b4e9826a9324d98b2e646ce133b0e06": {
      "model_module": "@jupyter-widgets/controls",
      "model_module_version": "1.5.0",
      "model_name": "IntProgressModel",
      "state": {
       "_dom_classes": [],
       "_model_module": "@jupyter-widgets/controls",
       "_model_module_version": "1.5.0",
       "_model_name": "IntProgressModel",
       "_view_count": null,
       "_view_module": "@jupyter-widgets/controls",
       "_view_module_version": "1.5.0",
       "_view_name": "ProgressView",
       "bar_style": "",
       "description": "Processing: ",
       "description_tooltip": null,
       "layout": "IPY_MODEL_d78ec13356c0464bb5293330fe446fcd",
       "max": 7,
       "min": 0,
       "orientation": "horizontal",
       "style": "IPY_MODEL_715966d4e975470087a491d8b5325774",
       "value": 7
      }
     },
     "8da302c171e04af9822d0bb03fa80214": {
      "model_module": "@jupyter-widgets/controls",
      "model_module_version": "1.5.0",
      "model_name": "ProgressStyleModel",
      "state": {
       "_model_module": "@jupyter-widgets/controls",
       "_model_module_version": "1.5.0",
       "_model_name": "ProgressStyleModel",
       "_view_count": null,
       "_view_module": "@jupyter-widgets/base",
       "_view_module_version": "1.2.0",
       "_view_name": "StyleView",
       "bar_color": null,
       "description_width": ""
      }
     },
     "98d42cf335cf405b88c0ad39508baed2": {
      "model_module": "@jupyter-widgets/base",
      "model_module_version": "1.2.0",
      "model_name": "LayoutModel",
      "state": {
       "_model_module": "@jupyter-widgets/base",
       "_model_module_version": "1.2.0",
       "_model_name": "LayoutModel",
       "_view_count": null,
       "_view_module": "@jupyter-widgets/base",
       "_view_module_version": "1.2.0",
       "_view_name": "LayoutView",
       "align_content": null,
       "align_items": null,
       "align_self": null,
       "border": null,
       "bottom": null,
       "display": null,
       "flex": null,
       "flex_flow": null,
       "grid_area": null,
       "grid_auto_columns": null,
       "grid_auto_flow": null,
       "grid_auto_rows": null,
       "grid_column": null,
       "grid_gap": null,
       "grid_row": null,
       "grid_template_areas": null,
       "grid_template_columns": null,
       "grid_template_rows": null,
       "height": null,
       "justify_content": null,
       "justify_items": null,
       "left": null,
       "margin": null,
       "max_height": null,
       "max_width": null,
       "min_height": null,
       "min_width": null,
       "object_fit": null,
       "object_position": null,
       "order": null,
       "overflow": null,
       "overflow_x": null,
       "overflow_y": null,
       "padding": null,
       "right": null,
       "top": null,
       "visibility": null,
       "width": null
      }
     },
     "9ab8673f20a54cdd9002b6bc34414ec4": {
      "model_module": "@jupyter-widgets/base",
      "model_module_version": "1.2.0",
      "model_name": "LayoutModel",
      "state": {
       "_model_module": "@jupyter-widgets/base",
       "_model_module_version": "1.2.0",
       "_model_name": "LayoutModel",
       "_view_count": null,
       "_view_module": "@jupyter-widgets/base",
       "_view_module_version": "1.2.0",
       "_view_name": "LayoutView",
       "align_content": null,
       "align_items": null,
       "align_self": null,
       "border": null,
       "bottom": null,
       "display": null,
       "flex": null,
       "flex_flow": null,
       "grid_area": null,
       "grid_auto_columns": null,
       "grid_auto_flow": null,
       "grid_auto_rows": null,
       "grid_column": null,
       "grid_gap": null,
       "grid_row": null,
       "grid_template_areas": null,
       "grid_template_columns": null,
       "grid_template_rows": null,
       "height": null,
       "justify_content": null,
       "justify_items": null,
       "left": null,
       "margin": null,
       "max_height": null,
       "max_width": null,
       "min_height": null,
       "min_width": null,
       "object_fit": null,
       "object_position": null,
       "order": null,
       "overflow": null,
       "overflow_x": null,
       "overflow_y": null,
       "padding": null,
       "right": null,
       "top": null,
       "visibility": null,
       "width": null
      }
     },
     "9d14f512015b4e4fba885dbc03abe68b": {
      "model_module": "@jupyter-widgets/controls",
      "model_module_version": "1.5.0",
      "model_name": "IntProgressModel",
      "state": {
       "_dom_classes": [],
       "_model_module": "@jupyter-widgets/controls",
       "_model_module_version": "1.5.0",
       "_model_name": "IntProgressModel",
       "_view_count": null,
       "_view_module": "@jupyter-widgets/controls",
       "_view_module_version": "1.5.0",
       "_view_name": "ProgressView",
       "bar_style": "",
       "description": "Processing: ",
       "description_tooltip": null,
       "layout": "IPY_MODEL_f58602177e26414fa26183cc67e16358",
       "max": 5,
       "min": 0,
       "orientation": "horizontal",
       "style": "IPY_MODEL_1d0399ab011941158b5d4d51a5ea4161",
       "value": 5
      }
     },
     "a4e3184137ea4b8baa1e5d3a72d0fb7b": {
      "model_module": "@jupyter-widgets/controls",
      "model_module_version": "1.5.0",
      "model_name": "ProgressStyleModel",
      "state": {
       "_model_module": "@jupyter-widgets/controls",
       "_model_module_version": "1.5.0",
       "_model_name": "ProgressStyleModel",
       "_view_count": null,
       "_view_module": "@jupyter-widgets/base",
       "_view_module_version": "1.2.0",
       "_view_name": "StyleView",
       "bar_color": null,
       "description_width": ""
      }
     },
     "a79705d51a2042c3b8efd66171393363": {
      "model_module": "@jupyter-widgets/controls",
      "model_module_version": "1.5.0",
      "model_name": "ProgressStyleModel",
      "state": {
       "_model_module": "@jupyter-widgets/controls",
       "_model_module_version": "1.5.0",
       "_model_name": "ProgressStyleModel",
       "_view_count": null,
       "_view_module": "@jupyter-widgets/base",
       "_view_module_version": "1.2.0",
       "_view_name": "StyleView",
       "bar_color": null,
       "description_width": ""
      }
     },
     "aa2daf296d5b4cba84b6e5d363aa58ff": {
      "model_module": "@jupyter-widgets/controls",
      "model_module_version": "1.5.0",
      "model_name": "ProgressStyleModel",
      "state": {
       "_model_module": "@jupyter-widgets/controls",
       "_model_module_version": "1.5.0",
       "_model_name": "ProgressStyleModel",
       "_view_count": null,
       "_view_module": "@jupyter-widgets/base",
       "_view_module_version": "1.2.0",
       "_view_name": "StyleView",
       "bar_color": null,
       "description_width": ""
      }
     },
     "ab4af67f2d4a41f0b3826907cd8813b0": {
      "model_module": "@jupyter-widgets/controls",
      "model_module_version": "1.5.0",
      "model_name": "IntProgressModel",
      "state": {
       "_dom_classes": [],
       "_model_module": "@jupyter-widgets/controls",
       "_model_module_version": "1.5.0",
       "_model_name": "IntProgressModel",
       "_view_count": null,
       "_view_module": "@jupyter-widgets/controls",
       "_view_module_version": "1.5.0",
       "_view_name": "ProgressView",
       "bar_style": "",
       "description": "Processing: ",
       "description_tooltip": null,
       "layout": "IPY_MODEL_5452a9af54974634a22bc614752fcd30",
       "max": 6,
       "min": 0,
       "orientation": "horizontal",
       "style": "IPY_MODEL_6958630af594429fb5b13fc85fc33f1f",
       "value": 6
      }
     },
     "b01e8d69e6104ba1b672255ec898ba96": {
      "model_module": "@jupyter-widgets/controls",
      "model_module_version": "1.5.0",
      "model_name": "ProgressStyleModel",
      "state": {
       "_model_module": "@jupyter-widgets/controls",
       "_model_module_version": "1.5.0",
       "_model_name": "ProgressStyleModel",
       "_view_count": null,
       "_view_module": "@jupyter-widgets/base",
       "_view_module_version": "1.2.0",
       "_view_name": "StyleView",
       "bar_color": null,
       "description_width": ""
      }
     },
     "b31eb6ebffad4b8fa64b5e414dfd6bd7": {
      "model_module": "@jupyter-widgets/base",
      "model_module_version": "1.2.0",
      "model_name": "LayoutModel",
      "state": {
       "_model_module": "@jupyter-widgets/base",
       "_model_module_version": "1.2.0",
       "_model_name": "LayoutModel",
       "_view_count": null,
       "_view_module": "@jupyter-widgets/base",
       "_view_module_version": "1.2.0",
       "_view_name": "LayoutView",
       "align_content": null,
       "align_items": null,
       "align_self": null,
       "border": null,
       "bottom": null,
       "display": null,
       "flex": null,
       "flex_flow": null,
       "grid_area": null,
       "grid_auto_columns": null,
       "grid_auto_flow": null,
       "grid_auto_rows": null,
       "grid_column": null,
       "grid_gap": null,
       "grid_row": null,
       "grid_template_areas": null,
       "grid_template_columns": null,
       "grid_template_rows": null,
       "height": null,
       "justify_content": null,
       "justify_items": null,
       "left": null,
       "margin": null,
       "max_height": null,
       "max_width": null,
       "min_height": null,
       "min_width": null,
       "object_fit": null,
       "object_position": null,
       "order": null,
       "overflow": null,
       "overflow_x": null,
       "overflow_y": null,
       "padding": null,
       "right": null,
       "top": null,
       "visibility": null,
       "width": null
      }
     },
     "c07e3f89faa24ef7a0373e1e7c5341c9": {
      "model_module": "@jupyter-widgets/controls",
      "model_module_version": "1.5.0",
      "model_name": "IntProgressModel",
      "state": {
       "_dom_classes": [],
       "_model_module": "@jupyter-widgets/controls",
       "_model_module_version": "1.5.0",
       "_model_name": "IntProgressModel",
       "_view_count": null,
       "_view_module": "@jupyter-widgets/controls",
       "_view_module_version": "1.5.0",
       "_view_name": "ProgressView",
       "bar_style": "",
       "description": "Processing: ",
       "description_tooltip": null,
       "layout": "IPY_MODEL_e51951902e034c36a300bac3945b188a",
       "max": 6,
       "min": 0,
       "orientation": "horizontal",
       "style": "IPY_MODEL_30b9b69903b94895836f128e3c46c563",
       "value": 6
      }
     },
     "ca96e679423e4a878d187fa7648d4b17": {
      "model_module": "@jupyter-widgets/controls",
      "model_module_version": "1.5.0",
      "model_name": "ProgressStyleModel",
      "state": {
       "_model_module": "@jupyter-widgets/controls",
       "_model_module_version": "1.5.0",
       "_model_name": "ProgressStyleModel",
       "_view_count": null,
       "_view_module": "@jupyter-widgets/base",
       "_view_module_version": "1.2.0",
       "_view_name": "StyleView",
       "bar_color": null,
       "description_width": ""
      }
     },
     "cc464922b0254ab989bea1c14c8a7b40": {
      "model_module": "@jupyter-widgets/base",
      "model_module_version": "1.2.0",
      "model_name": "LayoutModel",
      "state": {
       "_model_module": "@jupyter-widgets/base",
       "_model_module_version": "1.2.0",
       "_model_name": "LayoutModel",
       "_view_count": null,
       "_view_module": "@jupyter-widgets/base",
       "_view_module_version": "1.2.0",
       "_view_name": "LayoutView",
       "align_content": null,
       "align_items": null,
       "align_self": null,
       "border": null,
       "bottom": null,
       "display": null,
       "flex": null,
       "flex_flow": null,
       "grid_area": null,
       "grid_auto_columns": null,
       "grid_auto_flow": null,
       "grid_auto_rows": null,
       "grid_column": null,
       "grid_gap": null,
       "grid_row": null,
       "grid_template_areas": null,
       "grid_template_columns": null,
       "grid_template_rows": null,
       "height": null,
       "justify_content": null,
       "justify_items": null,
       "left": null,
       "margin": null,
       "max_height": null,
       "max_width": null,
       "min_height": null,
       "min_width": null,
       "object_fit": null,
       "object_position": null,
       "order": null,
       "overflow": null,
       "overflow_x": null,
       "overflow_y": null,
       "padding": null,
       "right": null,
       "top": null,
       "visibility": null,
       "width": null
      }
     },
     "d3435abb12ec4e4ca88176506c97ca5f": {
      "model_module": "@jupyter-widgets/controls",
      "model_module_version": "1.5.0",
      "model_name": "IntProgressModel",
      "state": {
       "_dom_classes": [],
       "_model_module": "@jupyter-widgets/controls",
       "_model_module_version": "1.5.0",
       "_model_name": "IntProgressModel",
       "_view_count": null,
       "_view_module": "@jupyter-widgets/controls",
       "_view_module_version": "1.5.0",
       "_view_name": "ProgressView",
       "bar_style": "",
       "description": "Processing: ",
       "description_tooltip": null,
       "layout": "IPY_MODEL_cc464922b0254ab989bea1c14c8a7b40",
       "max": 5,
       "min": 0,
       "orientation": "horizontal",
       "style": "IPY_MODEL_074a54458d7b4e8e809a86c396e0dedf",
       "value": 5
      }
     },
     "d78ec13356c0464bb5293330fe446fcd": {
      "model_module": "@jupyter-widgets/base",
      "model_module_version": "1.2.0",
      "model_name": "LayoutModel",
      "state": {
       "_model_module": "@jupyter-widgets/base",
       "_model_module_version": "1.2.0",
       "_model_name": "LayoutModel",
       "_view_count": null,
       "_view_module": "@jupyter-widgets/base",
       "_view_module_version": "1.2.0",
       "_view_name": "LayoutView",
       "align_content": null,
       "align_items": null,
       "align_self": null,
       "border": null,
       "bottom": null,
       "display": null,
       "flex": null,
       "flex_flow": null,
       "grid_area": null,
       "grid_auto_columns": null,
       "grid_auto_flow": null,
       "grid_auto_rows": null,
       "grid_column": null,
       "grid_gap": null,
       "grid_row": null,
       "grid_template_areas": null,
       "grid_template_columns": null,
       "grid_template_rows": null,
       "height": null,
       "justify_content": null,
       "justify_items": null,
       "left": null,
       "margin": null,
       "max_height": null,
       "max_width": null,
       "min_height": null,
       "min_width": null,
       "object_fit": null,
       "object_position": null,
       "order": null,
       "overflow": null,
       "overflow_x": null,
       "overflow_y": null,
       "padding": null,
       "right": null,
       "top": null,
       "visibility": null,
       "width": null
      }
     },
     "df03aed51e9f407ab05942ba0e65d754": {
      "model_module": "@jupyter-widgets/controls",
      "model_module_version": "1.5.0",
      "model_name": "IntProgressModel",
      "state": {
       "_dom_classes": [],
       "_model_module": "@jupyter-widgets/controls",
       "_model_module_version": "1.5.0",
       "_model_name": "IntProgressModel",
       "_view_count": null,
       "_view_module": "@jupyter-widgets/controls",
       "_view_module_version": "1.5.0",
       "_view_name": "ProgressView",
       "bar_style": "",
       "description": "Processing: ",
       "description_tooltip": null,
       "layout": "IPY_MODEL_882e82059bc84f7e938a382b2074a950",
       "max": 5,
       "min": 0,
       "orientation": "horizontal",
       "style": "IPY_MODEL_aa2daf296d5b4cba84b6e5d363aa58ff",
       "value": 5
      }
     },
     "e097f6b36c4e4606805a41e827cc1bf7": {
      "model_module": "@jupyter-widgets/base",
      "model_module_version": "1.2.0",
      "model_name": "LayoutModel",
      "state": {
       "_model_module": "@jupyter-widgets/base",
       "_model_module_version": "1.2.0",
       "_model_name": "LayoutModel",
       "_view_count": null,
       "_view_module": "@jupyter-widgets/base",
       "_view_module_version": "1.2.0",
       "_view_name": "LayoutView",
       "align_content": null,
       "align_items": null,
       "align_self": null,
       "border": null,
       "bottom": null,
       "display": null,
       "flex": null,
       "flex_flow": null,
       "grid_area": null,
       "grid_auto_columns": null,
       "grid_auto_flow": null,
       "grid_auto_rows": null,
       "grid_column": null,
       "grid_gap": null,
       "grid_row": null,
       "grid_template_areas": null,
       "grid_template_columns": null,
       "grid_template_rows": null,
       "height": null,
       "justify_content": null,
       "justify_items": null,
       "left": null,
       "margin": null,
       "max_height": null,
       "max_width": null,
       "min_height": null,
       "min_width": null,
       "object_fit": null,
       "object_position": null,
       "order": null,
       "overflow": null,
       "overflow_x": null,
       "overflow_y": null,
       "padding": null,
       "right": null,
       "top": null,
       "visibility": null,
       "width": null
      }
     },
     "e1e9282e2eba4c65aeede8a54a06da78": {
      "model_module": "@jupyter-widgets/controls",
      "model_module_version": "1.5.0",
      "model_name": "ProgressStyleModel",
      "state": {
       "_model_module": "@jupyter-widgets/controls",
       "_model_module_version": "1.5.0",
       "_model_name": "ProgressStyleModel",
       "_view_count": null,
       "_view_module": "@jupyter-widgets/base",
       "_view_module_version": "1.2.0",
       "_view_name": "StyleView",
       "bar_color": null,
       "description_width": ""
      }
     },
     "e4b9fe01d8c54198a8f8d2c097fbaa18": {
      "model_module": "@jupyter-widgets/controls",
      "model_module_version": "1.5.0",
      "model_name": "IntProgressModel",
      "state": {
       "_dom_classes": [],
       "_model_module": "@jupyter-widgets/controls",
       "_model_module_version": "1.5.0",
       "_model_name": "IntProgressModel",
       "_view_count": null,
       "_view_module": "@jupyter-widgets/controls",
       "_view_module_version": "1.5.0",
       "_view_name": "ProgressView",
       "bar_style": "",
       "description": "Processing: ",
       "description_tooltip": null,
       "layout": "IPY_MODEL_7922d4fa0b984f6cbca8d50fac2c4bc9",
       "max": 5,
       "min": 0,
       "orientation": "horizontal",
       "style": "IPY_MODEL_8da302c171e04af9822d0bb03fa80214",
       "value": 5
      }
     },
     "e51951902e034c36a300bac3945b188a": {
      "model_module": "@jupyter-widgets/base",
      "model_module_version": "1.2.0",
      "model_name": "LayoutModel",
      "state": {
       "_model_module": "@jupyter-widgets/base",
       "_model_module_version": "1.2.0",
       "_model_name": "LayoutModel",
       "_view_count": null,
       "_view_module": "@jupyter-widgets/base",
       "_view_module_version": "1.2.0",
       "_view_name": "LayoutView",
       "align_content": null,
       "align_items": null,
       "align_self": null,
       "border": null,
       "bottom": null,
       "display": null,
       "flex": null,
       "flex_flow": null,
       "grid_area": null,
       "grid_auto_columns": null,
       "grid_auto_flow": null,
       "grid_auto_rows": null,
       "grid_column": null,
       "grid_gap": null,
       "grid_row": null,
       "grid_template_areas": null,
       "grid_template_columns": null,
       "grid_template_rows": null,
       "height": null,
       "justify_content": null,
       "justify_items": null,
       "left": null,
       "margin": null,
       "max_height": null,
       "max_width": null,
       "min_height": null,
       "min_width": null,
       "object_fit": null,
       "object_position": null,
       "order": null,
       "overflow": null,
       "overflow_x": null,
       "overflow_y": null,
       "padding": null,
       "right": null,
       "top": null,
       "visibility": null,
       "width": null
      }
     },
     "ee1d9b6e3a6d4e318de24380f9f5917b": {
      "model_module": "@jupyter-widgets/controls",
      "model_module_version": "1.5.0",
      "model_name": "IntProgressModel",
      "state": {
       "_dom_classes": [],
       "_model_module": "@jupyter-widgets/controls",
       "_model_module_version": "1.5.0",
       "_model_name": "IntProgressModel",
       "_view_count": null,
       "_view_module": "@jupyter-widgets/controls",
       "_view_module_version": "1.5.0",
       "_view_name": "ProgressView",
       "bar_style": "",
       "description": "Processing: ",
       "description_tooltip": null,
       "layout": "IPY_MODEL_2653bf7e8c3e44b188498b5d5004e756",
       "max": 7,
       "min": 0,
       "orientation": "horizontal",
       "style": "IPY_MODEL_2edc9b3cf09b4ab79bdbdc2cf7878597",
       "value": 7
      }
     },
     "f58602177e26414fa26183cc67e16358": {
      "model_module": "@jupyter-widgets/base",
      "model_module_version": "1.2.0",
      "model_name": "LayoutModel",
      "state": {
       "_model_module": "@jupyter-widgets/base",
       "_model_module_version": "1.2.0",
       "_model_name": "LayoutModel",
       "_view_count": null,
       "_view_module": "@jupyter-widgets/base",
       "_view_module_version": "1.2.0",
       "_view_name": "LayoutView",
       "align_content": null,
       "align_items": null,
       "align_self": null,
       "border": null,
       "bottom": null,
       "display": null,
       "flex": null,
       "flex_flow": null,
       "grid_area": null,
       "grid_auto_columns": null,
       "grid_auto_flow": null,
       "grid_auto_rows": null,
       "grid_column": null,
       "grid_gap": null,
       "grid_row": null,
       "grid_template_areas": null,
       "grid_template_columns": null,
       "grid_template_rows": null,
       "height": null,
       "justify_content": null,
       "justify_items": null,
       "left": null,
       "margin": null,
       "max_height": null,
       "max_width": null,
       "min_height": null,
       "min_width": null,
       "object_fit": null,
       "object_position": null,
       "order": null,
       "overflow": null,
       "overflow_x": null,
       "overflow_y": null,
       "padding": null,
       "right": null,
       "top": null,
       "visibility": null,
       "width": null
      }
     },
     "f5b023aa1bca4667aeb177bb727b05a1": {
      "model_module": "@jupyter-widgets/base",
      "model_module_version": "1.2.0",
      "model_name": "LayoutModel",
      "state": {
       "_model_module": "@jupyter-widgets/base",
       "_model_module_version": "1.2.0",
       "_model_name": "LayoutModel",
       "_view_count": null,
       "_view_module": "@jupyter-widgets/base",
       "_view_module_version": "1.2.0",
       "_view_name": "LayoutView",
       "align_content": null,
       "align_items": null,
       "align_self": null,
       "border": null,
       "bottom": null,
       "display": null,
       "flex": null,
       "flex_flow": null,
       "grid_area": null,
       "grid_auto_columns": null,
       "grid_auto_flow": null,
       "grid_auto_rows": null,
       "grid_column": null,
       "grid_gap": null,
       "grid_row": null,
       "grid_template_areas": null,
       "grid_template_columns": null,
       "grid_template_rows": null,
       "height": null,
       "justify_content": null,
       "justify_items": null,
       "left": null,
       "margin": null,
       "max_height": null,
       "max_width": null,
       "min_height": null,
       "min_width": null,
       "object_fit": null,
       "object_position": null,
       "order": null,
       "overflow": null,
       "overflow_x": null,
       "overflow_y": null,
       "padding": null,
       "right": null,
       "top": null,
       "visibility": null,
       "width": null
      }
     },
     "f6890dd3bd8f4076b6d205c87f547263": {
      "model_module": "@jupyter-widgets/controls",
      "model_module_version": "1.5.0",
      "model_name": "ProgressStyleModel",
      "state": {
       "_model_module": "@jupyter-widgets/controls",
       "_model_module_version": "1.5.0",
       "_model_name": "ProgressStyleModel",
       "_view_count": null,
       "_view_module": "@jupyter-widgets/base",
       "_view_module_version": "1.2.0",
       "_view_name": "StyleView",
       "bar_color": null,
       "description_width": ""
      }
     },
     "fcd4396a7c4e446ba5291074062d1375": {
      "model_module": "@jupyter-widgets/base",
      "model_module_version": "1.2.0",
      "model_name": "LayoutModel",
      "state": {
       "_model_module": "@jupyter-widgets/base",
       "_model_module_version": "1.2.0",
       "_model_name": "LayoutModel",
       "_view_count": null,
       "_view_module": "@jupyter-widgets/base",
       "_view_module_version": "1.2.0",
       "_view_name": "LayoutView",
       "align_content": null,
       "align_items": null,
       "align_self": null,
       "border": null,
       "bottom": null,
       "display": null,
       "flex": null,
       "flex_flow": null,
       "grid_area": null,
       "grid_auto_columns": null,
       "grid_auto_flow": null,
       "grid_auto_rows": null,
       "grid_column": null,
       "grid_gap": null,
       "grid_row": null,
       "grid_template_areas": null,
       "grid_template_columns": null,
       "grid_template_rows": null,
       "height": null,
       "justify_content": null,
       "justify_items": null,
       "left": null,
       "margin": null,
       "max_height": null,
       "max_width": null,
       "min_height": null,
       "min_width": null,
       "object_fit": null,
       "object_position": null,
       "order": null,
       "overflow": null,
       "overflow_x": null,
       "overflow_y": null,
       "padding": null,
       "right": null,
       "top": null,
       "visibility": null,
       "width": null
      }
     },
     "ff05805891984c82aa66ab5f8f57747e": {
      "model_module": "@jupyter-widgets/controls",
      "model_module_version": "1.5.0",
      "model_name": "IntProgressModel",
      "state": {
       "_dom_classes": [],
       "_model_module": "@jupyter-widgets/controls",
       "_model_module_version": "1.5.0",
       "_model_name": "IntProgressModel",
       "_view_count": null,
       "_view_module": "@jupyter-widgets/controls",
       "_view_module_version": "1.5.0",
       "_view_name": "ProgressView",
       "bar_style": "",
       "description": "Processing: ",
       "description_tooltip": null,
       "layout": "IPY_MODEL_b31eb6ebffad4b8fa64b5e414dfd6bd7",
       "max": 6,
       "min": 0,
       "orientation": "horizontal",
       "style": "IPY_MODEL_2ff7cae26e614a659cb104edaba0ecbe",
       "value": 6
      }
     }
    },
    "version_major": 2,
    "version_minor": 0
   }
  }
 },
 "nbformat": 4,
 "nbformat_minor": 5
}
